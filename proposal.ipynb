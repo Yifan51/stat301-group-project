{
 "cells": [
  {
   "cell_type": "markdown",
   "id": "9876180f-f99c-4f36-a49f-23859e6b08e2",
   "metadata": {},
   "source": [
    "# Title"
   ]
  },
  {
   "cell_type": "code",
   "execution_count": null,
   "id": "f88663d6-def0-426e-a434-2bde86ae91ae",
   "metadata": {},
   "outputs": [],
   "source": [
    "# Run this cell before continuing.\n",
    "library(tidyverse)\n",
    "library(repr)\n",
    "library(digest)\n",
    "library(infer)\n",
    "library(cowplot)\n",
    "library(broom)\n",
    "library(faux)"
   ]
  },
  {
   "cell_type": "markdown",
   "id": "87d9491d-88e3-4a44-adf4-51eb76d24b8f",
   "metadata": {},
   "source": [
    "## Introduction"
   ]
  },
  {
   "cell_type": "markdown",
   "id": "2e3fb4e1-b522-45b7-80f7-23133be9d11a",
   "metadata": {},
   "source": [
    "## Priliminary Results"
   ]
  },
  {
   "cell_type": "markdown",
   "id": "a151e348-6143-49d2-9f50-1f2e476fda22",
   "metadata": {},
   "source": [
    "## Methods"
   ]
  }
 ],
 "metadata": {
  "kernelspec": {
   "display_name": "R",
   "language": "R",
   "name": "ir"
  },
  "language_info": {
   "codemirror_mode": "r",
   "file_extension": ".r",
   "mimetype": "text/x-r-source",
   "name": "R",
   "pygments_lexer": "r",
   "version": "4.1.3"
  }
 },
 "nbformat": 4,
 "nbformat_minor": 5
}
