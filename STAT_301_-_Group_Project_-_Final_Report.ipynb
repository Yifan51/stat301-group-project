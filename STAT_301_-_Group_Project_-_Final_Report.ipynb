{
 "cells": [
  {
   "cell_type": "markdown",
   "id": "a37dc6c0",
   "metadata": {},
   "source": [
    "# Does Political Structure Influence Voter Turnout in Industrialized Democracy?\n",
    "\n",
    "### STAT 301 - Group Project - Proposal"
   ]
  },
  {
   "cell_type": "code",
   "execution_count": 1,
   "id": "4c0c9cfc",
   "metadata": {},
   "outputs": [
    {
     "name": "stderr",
     "output_type": "stream",
     "text": [
      "Loading required package: ggplot2\n",
      "\n",
      "Registered S3 method overwritten by 'GGally':\n",
      "  method from   \n",
      "  +.gg   ggplot2\n",
      "\n",
      "\n",
      "Attaching package: 'dplyr'\n",
      "\n",
      "\n",
      "The following objects are masked from 'package:stats':\n",
      "\n",
      "    filter, lag\n",
      "\n",
      "\n",
      "The following objects are masked from 'package:base':\n",
      "\n",
      "    intersect, setdiff, setequal, union\n",
      "\n",
      "\n",
      "── \u001b[1mAttaching packages\u001b[22m ─────────────────────────────────────────────────────────────────────────────── tidyverse 1.3.2 ──\n",
      "\u001b[32m✔\u001b[39m \u001b[34mtibble \u001b[39m 3.1.8     \u001b[32m✔\u001b[39m \u001b[34mpurrr  \u001b[39m 0.3.5\n",
      "\u001b[32m✔\u001b[39m \u001b[34mtidyr  \u001b[39m 1.2.1     \u001b[32m✔\u001b[39m \u001b[34mstringr\u001b[39m 1.4.1\n",
      "\u001b[32m✔\u001b[39m \u001b[34mreadr  \u001b[39m 2.1.3     \u001b[32m✔\u001b[39m \u001b[34mforcats\u001b[39m 0.5.2\n",
      "── \u001b[1mConflicts\u001b[22m ────────────────────────────────────────────────────────────────────────────────── tidyverse_conflicts() ──\n",
      "\u001b[31m✖\u001b[39m \u001b[34mdplyr\u001b[39m::\u001b[32mfilter()\u001b[39m masks \u001b[34mstats\u001b[39m::filter()\n",
      "\u001b[31m✖\u001b[39m \u001b[34mdplyr\u001b[39m::\u001b[32mlag()\u001b[39m    masks \u001b[34mstats\u001b[39m::lag()\n",
      "\n",
      "************\n",
      "Welcome to faux. For support and examples visit:\n",
      "https://debruine.github.io/faux/\n",
      "- Get and set global package options with: faux_options()\n",
      "************\n",
      "\n",
      "\n",
      "Attaching package: 'faux'\n",
      "\n",
      "\n",
      "The following object is masked from 'package:purrr':\n",
      "\n",
      "    %||%\n",
      "\n",
      "\n"
     ]
    }
   ],
   "source": [
    "# Load the necessary packages for the Project Proposal\n",
    "library(GGally)\n",
    "library(dplyr)\n",
    "library(tidyverse)\n",
    "library(repr)\n",
    "library(digest)\n",
    "library(infer)\n",
    "library(cowplot)\n",
    "library(broom)\n",
    "library(faux)"
   ]
  },
  {
   "cell_type": "markdown",
   "id": "d8d8b279",
   "metadata": {},
   "source": [
    "## 1. Introduction"
   ]
  },
  {
   "cell_type": "markdown",
   "id": "54fae52d",
   "metadata": {},
   "source": [
    "The two competing explanations for differences in voter turnout between countries in the literature is either cultural or institution-based. The cultural argument traditionally cites Almond and Verba’s (1963) work that turnout depends on the unique, participatory culture of each country. Alternatively, the classic work by Jackman (1987) suggests the structure of a country’s political institutions has a “major and predictable” impact on voting rates regardless of cultural differences (p. 406). However, Jackson’s shortcoming was he could only compare 19 countries in the 1970s. Thus his results might not be generalizable to all elections and industrialized democracies. Subsequent studies mostly focused on country-specific elections but have cast doubt on whether institutional factors have an effect (Freitag, 2010). This study, therefore, aims to test Jackson’s claims that voter turnout is majorly impacted by the structure of political institutions in industrialized democracies by using a more comprehensive and updated dataset.\n",
    "\n",
    "The QOG dataset will be from the Quality of Government Institute, where researchers compiled measures for each country from hundreds of sources (Teorell et. al., 2022). The dataset has information from 1960 to 2018 for the 36 OECD and EU democracies, however, after cleaning the data, 35 country observations remain. We base our methods on Jackman (1987), and will build a regression of the voter turnout against institutional measures of electoral competitiveness, multipartyism, electoral proportionality, and whether the legislature is bicameral.\n",
    "\n",
    "We estimate institutionalized competition using Vanhanen (2019)’s method based on the percentage of votes that go to small parties, multipartyism by the number of influential parties, electoral proportionality on a dummy whether proportional representation systems exist, and bicameralism (the presence of two legislatures) using a dummy with 0 for unitary and 1 for bicameral governments.\n",
    "\n",
    "The dataset can be found at: https://www.qogdata.pol.gu.se/data/codebook_std_jan22.pdf"
   ]
  },
  {
   "cell_type": "markdown",
   "id": "a9753256",
   "metadata": {},
   "source": [
    "## 2. Data Wrangling and Cleaning"
   ]
  },
  {
   "cell_type": "markdown",
   "id": "828bc9c9",
   "metadata": {},
   "source": [
    "### 2.1 Importing the Dataset"
   ]
  },
  {
   "cell_type": "code",
   "execution_count": 2,
   "id": "07fce212",
   "metadata": {},
   "outputs": [
    {
     "name": "stderr",
     "output_type": "stream",
     "text": [
      "Warning message:\n",
      "\"\u001b[1m\u001b[22mOne or more parsing issues, call `problems()` on your data frame for details, e.g.:\n",
      "  dat <- vroom(...)\n",
      "  problems(dat)\"\n",
      "\u001b[1mRows: \u001b[22m\u001b[34m15168\u001b[39m \u001b[1mColumns: \u001b[22m\u001b[34m1913\u001b[39m\n",
      "\u001b[36m──\u001b[39m \u001b[1mColumn specification\u001b[22m \u001b[36m────────────────────────────────────────────────────────────────────────────────────────────────\u001b[39m\n",
      "\u001b[1mDelimiter:\u001b[22m \",\"\n",
      "\u001b[31mchr\u001b[39m    (7): cname, cname_qog, ccodealp, version, cname_year, ccodealp_year, ...\n",
      "\u001b[32mdbl\u001b[39m (1903): ccode, year, ccode_qog, ccodecow, aid_cpnc, aid_cpsc, aid_crnc, ...\n",
      "\u001b[33mlgl\u001b[39m    (3): psi_cpsi2, psi_edate2, psi_psi2\n",
      "\n",
      "\u001b[36mℹ\u001b[39m Use `spec()` to retrieve the full column specification for this data.\n",
      "\u001b[36mℹ\u001b[39m Specify the column types or set `show_col_types = FALSE` to quiet this message.\n"
     ]
    }
   ],
   "source": [
    "url <- \"https://www.qogdata.pol.gu.se/data/qog_std_ts_jan22.csv\"\n",
    "QOG_dataset_original <- read_delim(url, \",\")"
   ]
  },
  {
   "cell_type": "markdown",
   "id": "a055914a",
   "metadata": {},
   "source": [
    "### 2.2 Cleaning the Dataset"
   ]
  },
  {
   "cell_type": "code",
   "execution_count": 3,
   "id": "24dc174e",
   "metadata": {},
   "outputs": [
    {
     "data": {
      "text/html": [
       "<table class=\"dataframe\">\n",
       "<caption>A tibble: 6 × 6</caption>\n",
       "<thead>\n",
       "\t<tr><th scope=col>country</th><th scope=col>voter_turnout</th><th scope=col>elec_comp</th><th scope=col>gov_type</th><th scope=col>prop_rep</th><th scope=col>num_party</th></tr>\n",
       "\t<tr><th scope=col>&lt;chr&gt;</th><th scope=col>&lt;dbl&gt;</th><th scope=col>&lt;dbl&gt;</th><th scope=col>&lt;chr&gt;</th><th scope=col>&lt;chr&gt;</th><th scope=col>&lt;dbl&gt;</th></tr>\n",
       "</thead>\n",
       "<tbody>\n",
       "\t<tr><td>Australia</td><td>51.0</td><td>57.1</td><td>unitary</td><td>no</td><td>2.973527</td></tr>\n",
       "\t<tr><td>Australia</td><td>51.1</td><td>52.0</td><td>unitary</td><td>no</td><td>2.814222</td></tr>\n",
       "\t<tr><td>Australia</td><td>50.1</td><td>52.0</td><td>unitary</td><td>no</td><td>2.814222</td></tr>\n",
       "\t<tr><td>Australia</td><td>50.3</td><td>54.5</td><td>unitary</td><td>no</td><td>2.792805</td></tr>\n",
       "\t<tr><td>Australia</td><td>50.3</td><td>54.5</td><td>unitary</td><td>no</td><td>2.792805</td></tr>\n",
       "\t<tr><td>Australia</td><td>51.3</td><td>54.5</td><td>unitary</td><td>no</td><td>2.792805</td></tr>\n",
       "</tbody>\n",
       "</table>\n"
      ],
      "text/latex": [
       "A tibble: 6 × 6\n",
       "\\begin{tabular}{llllll}\n",
       " country & voter\\_turnout & elec\\_comp & gov\\_type & prop\\_rep & num\\_party\\\\\n",
       " <chr> & <dbl> & <dbl> & <chr> & <chr> & <dbl>\\\\\n",
       "\\hline\n",
       "\t Australia & 51.0 & 57.1 & unitary & no & 2.973527\\\\\n",
       "\t Australia & 51.1 & 52.0 & unitary & no & 2.814222\\\\\n",
       "\t Australia & 50.1 & 52.0 & unitary & no & 2.814222\\\\\n",
       "\t Australia & 50.3 & 54.5 & unitary & no & 2.792805\\\\\n",
       "\t Australia & 50.3 & 54.5 & unitary & no & 2.792805\\\\\n",
       "\t Australia & 51.3 & 54.5 & unitary & no & 2.792805\\\\\n",
       "\\end{tabular}\n"
      ],
      "text/markdown": [
       "\n",
       "A tibble: 6 × 6\n",
       "\n",
       "| country &lt;chr&gt; | voter_turnout &lt;dbl&gt; | elec_comp &lt;dbl&gt; | gov_type &lt;chr&gt; | prop_rep &lt;chr&gt; | num_party &lt;dbl&gt; |\n",
       "|---|---|---|---|---|---|\n",
       "| Australia | 51.0 | 57.1 | unitary | no | 2.973527 |\n",
       "| Australia | 51.1 | 52.0 | unitary | no | 2.814222 |\n",
       "| Australia | 50.1 | 52.0 | unitary | no | 2.814222 |\n",
       "| Australia | 50.3 | 54.5 | unitary | no | 2.792805 |\n",
       "| Australia | 50.3 | 54.5 | unitary | no | 2.792805 |\n",
       "| Australia | 51.3 | 54.5 | unitary | no | 2.792805 |\n",
       "\n"
      ],
      "text/plain": [
       "  country   voter_turnout elec_comp gov_type prop_rep num_party\n",
       "1 Australia 51.0          57.1      unitary  no       2.973527 \n",
       "2 Australia 51.1          52.0      unitary  no       2.814222 \n",
       "3 Australia 50.1          52.0      unitary  no       2.814222 \n",
       "4 Australia 50.3          54.5      unitary  no       2.792805 \n",
       "5 Australia 50.3          54.5      unitary  no       2.792805 \n",
       "6 Australia 51.3          54.5      unitary  no       2.792805 "
      ]
     },
     "metadata": {},
     "output_type": "display_data"
    }
   ],
   "source": [
    "# For cleaning up the dataset we will be doing the following:\n",
    "# - We will be filtering out the columns other than \"cname\", \"year\", \"van_part\", \"van_comp\", jw_bicameral\", \"br_pvote\",\n",
    "#   and \"cpds_enpv\".\n",
    "# - We will be renaming our selected variables for better readability.\n",
    "# - We will be filtering out the NA rows when applicable.\n",
    "\n",
    "QOG_cleaned <- QOG_dataset_original %>% \n",
    "                select(cname, van_part, van_comp, jw_bicameral, br_pvote, cpds_enpv) %>%\n",
    "                filter(cname != is.na(cname),\n",
    "                       van_part != is.na(van_part),\n",
    "                       van_comp != is.na(van_comp),\n",
    "                       # jw_bicameral != is.na(jw_bicameral),\n",
    "                       cpds_enpv != is.na(cpds_enpv)) \n",
    "\n",
    "colnames(QOG_cleaned) <- c(\"country\", \"voter_turnout\", \"elec_comp\", \"gov_type\", \"prop_rep\", \"num_party\")\n",
    "\n",
    "QOG_cleaned <- QOG_cleaned %>%\n",
    "                mutate(gov_type = ifelse(is.na(gov_type), 0, gov_type)) %>%\n",
    "                mutate(gov_type = ifelse(gov_type == 0, \"unitary\", \"bicaremel\")) %>%\n",
    "                mutate(prop_rep = ifelse(prop_rep == 0, \"no\", \"yes\")) %>%\n",
    "                filter(prop_rep != is.na(prop_rep))\n",
    "\n",
    "head(QOG_cleaned)"
   ]
  },
  {
   "cell_type": "markdown",
   "id": "887dda49",
   "metadata": {},
   "source": [
    "***[THING TO DO]: What is the proportion of the missing data? Do you know the missingness mechanism?***"
   ]
  },
  {
   "cell_type": "markdown",
   "id": "68dc9615",
   "metadata": {},
   "source": [
    "## 3. Methodology and Results"
   ]
  },
  {
   "cell_type": "markdown",
   "id": "1f6cee3d",
   "metadata": {},
   "source": [
    "### 3.1 Summary Tables\n",
    "\n",
    "We will be building summary tables just to see the averages for the data, by country, government type, and whether there is a proportional representation or not."
   ]
  },
  {
   "cell_type": "markdown",
   "id": "c2e4693a",
   "metadata": {},
   "source": [
    "**Table 1: Summary of the Data by Country**"
   ]
  },
  {
   "cell_type": "code",
   "execution_count": 4,
   "id": "b1d1e9f7",
   "metadata": {},
   "outputs": [
    {
     "data": {
      "text/html": [
       "<table class=\"dataframe\">\n",
       "<caption>A tibble: 6 × 4</caption>\n",
       "<thead>\n",
       "\t<tr><th scope=col>country</th><th scope=col>avg_voter_turnout</th><th scope=col>avg_elec_comp</th><th scope=col>avg_num_party</th></tr>\n",
       "\t<tr><th scope=col>&lt;chr&gt;</th><th scope=col>&lt;dbl&gt;</th><th scope=col>&lt;dbl&gt;</th><th scope=col>&lt;dbl&gt;</th></tr>\n",
       "</thead>\n",
       "<tbody>\n",
       "\t<tr><td>Australia</td><td>58.09051</td><td>57.47119</td><td>3.078265</td></tr>\n",
       "\t<tr><td>Austria  </td><td>61.09593</td><td>58.54407</td><td>3.167171</td></tr>\n",
       "\t<tr><td>Belgium  </td><td>60.26864</td><td>68.20339</td><td>7.853640</td></tr>\n",
       "\t<tr><td>Bulgaria </td><td>53.35724</td><td>54.97000</td><td>4.442549</td></tr>\n",
       "\t<tr><td>Canada   </td><td>44.63186</td><td>58.11695</td><td>3.312809</td></tr>\n",
       "\t<tr><td>Croatia  </td><td>54.46421</td><td>51.51158</td><td>5.927319</td></tr>\n",
       "</tbody>\n",
       "</table>\n"
      ],
      "text/latex": [
       "A tibble: 6 × 4\n",
       "\\begin{tabular}{llll}\n",
       " country & avg\\_voter\\_turnout & avg\\_elec\\_comp & avg\\_num\\_party\\\\\n",
       " <chr> & <dbl> & <dbl> & <dbl>\\\\\n",
       "\\hline\n",
       "\t Australia & 58.09051 & 57.47119 & 3.078265\\\\\n",
       "\t Austria   & 61.09593 & 58.54407 & 3.167171\\\\\n",
       "\t Belgium   & 60.26864 & 68.20339 & 7.853640\\\\\n",
       "\t Bulgaria  & 53.35724 & 54.97000 & 4.442549\\\\\n",
       "\t Canada    & 44.63186 & 58.11695 & 3.312809\\\\\n",
       "\t Croatia   & 54.46421 & 51.51158 & 5.927319\\\\\n",
       "\\end{tabular}\n"
      ],
      "text/markdown": [
       "\n",
       "A tibble: 6 × 4\n",
       "\n",
       "| country &lt;chr&gt; | avg_voter_turnout &lt;dbl&gt; | avg_elec_comp &lt;dbl&gt; | avg_num_party &lt;dbl&gt; |\n",
       "|---|---|---|---|\n",
       "| Australia | 58.09051 | 57.47119 | 3.078265 |\n",
       "| Austria   | 61.09593 | 58.54407 | 3.167171 |\n",
       "| Belgium   | 60.26864 | 68.20339 | 7.853640 |\n",
       "| Bulgaria  | 53.35724 | 54.97000 | 4.442549 |\n",
       "| Canada    | 44.63186 | 58.11695 | 3.312809 |\n",
       "| Croatia   | 54.46421 | 51.51158 | 5.927319 |\n",
       "\n"
      ],
      "text/plain": [
       "  country   avg_voter_turnout avg_elec_comp avg_num_party\n",
       "1 Australia 58.09051          57.47119      3.078265     \n",
       "2 Austria   61.09593          58.54407      3.167171     \n",
       "3 Belgium   60.26864          68.20339      7.853640     \n",
       "4 Bulgaria  53.35724          54.97000      4.442549     \n",
       "5 Canada    44.63186          58.11695      3.312809     \n",
       "6 Croatia   54.46421          51.51158      5.927319     "
      ]
     },
     "metadata": {},
     "output_type": "display_data"
    }
   ],
   "source": [
    "QOG_by_country <- QOG_cleaned %>% select(-gov_type, -prop_rep) %>%\n",
    "                    group_by(country) %>%\n",
    "                    summarize(avg_voter_turnout = mean(voter_turnout),\n",
    "                              avg_elec_comp = mean(elec_comp),\n",
    "                              avg_num_party = mean(num_party))\n",
    "head(QOG_by_country)"
   ]
  },
  {
   "cell_type": "markdown",
   "id": "4e5b338e",
   "metadata": {},
   "source": [
    "***[THING TO DO]: Explain Table 1***"
   ]
  },
  {
   "cell_type": "markdown",
   "id": "502f9648",
   "metadata": {},
   "source": [
    "**Table 2: Summary of the Data by Government Type**"
   ]
  },
  {
   "cell_type": "code",
   "execution_count": 5,
   "id": "b0f696c8",
   "metadata": {},
   "outputs": [
    {
     "data": {
      "text/html": [
       "<table class=\"dataframe\">\n",
       "<caption>A tibble: 2 × 4</caption>\n",
       "<thead>\n",
       "\t<tr><th scope=col>gov_type</th><th scope=col>avg_voter_turnout</th><th scope=col>avg_elec_comp</th><th scope=col>avg_num_party</th></tr>\n",
       "\t<tr><th scope=col>&lt;chr&gt;</th><th scope=col>&lt;dbl&gt;</th><th scope=col>&lt;dbl&gt;</th><th scope=col>&lt;dbl&gt;</th></tr>\n",
       "</thead>\n",
       "<tbody>\n",
       "\t<tr><td>bicaremel</td><td>55.83911</td><td>59.77002</td><td>4.587733</td></tr>\n",
       "\t<tr><td>unitary  </td><td>53.25492</td><td>59.76764</td><td>4.305824</td></tr>\n",
       "</tbody>\n",
       "</table>\n"
      ],
      "text/latex": [
       "A tibble: 2 × 4\n",
       "\\begin{tabular}{llll}\n",
       " gov\\_type & avg\\_voter\\_turnout & avg\\_elec\\_comp & avg\\_num\\_party\\\\\n",
       " <chr> & <dbl> & <dbl> & <dbl>\\\\\n",
       "\\hline\n",
       "\t bicaremel & 55.83911 & 59.77002 & 4.587733\\\\\n",
       "\t unitary   & 53.25492 & 59.76764 & 4.305824\\\\\n",
       "\\end{tabular}\n"
      ],
      "text/markdown": [
       "\n",
       "A tibble: 2 × 4\n",
       "\n",
       "| gov_type &lt;chr&gt; | avg_voter_turnout &lt;dbl&gt; | avg_elec_comp &lt;dbl&gt; | avg_num_party &lt;dbl&gt; |\n",
       "|---|---|---|---|\n",
       "| bicaremel | 55.83911 | 59.77002 | 4.587733 |\n",
       "| unitary   | 53.25492 | 59.76764 | 4.305824 |\n",
       "\n"
      ],
      "text/plain": [
       "  gov_type  avg_voter_turnout avg_elec_comp avg_num_party\n",
       "1 bicaremel 55.83911          59.77002      4.587733     \n",
       "2 unitary   53.25492          59.76764      4.305824     "
      ]
     },
     "metadata": {},
     "output_type": "display_data"
    }
   ],
   "source": [
    "QOG_by_gov_type <- QOG_cleaned %>% select(-country, -prop_rep) %>%\n",
    "                    group_by(gov_type) %>%\n",
    "                    summarize(avg_voter_turnout = mean(voter_turnout),\n",
    "                              avg_elec_comp = mean(elec_comp),\n",
    "                              avg_num_party = mean(num_party))\n",
    "QOG_by_gov_type"
   ]
  },
  {
   "cell_type": "markdown",
   "id": "45d0c0ba",
   "metadata": {},
   "source": [
    "***[THING TO DO]: Explain Table 2***"
   ]
  },
  {
   "cell_type": "markdown",
   "id": "80bf9347",
   "metadata": {},
   "source": [
    "**Table 3: Summary of the Data by whether there is proportional representation or not**"
   ]
  },
  {
   "cell_type": "code",
   "execution_count": 6,
   "id": "657024dd",
   "metadata": {},
   "outputs": [
    {
     "data": {
      "text/html": [
       "<table class=\"dataframe\">\n",
       "<caption>A tibble: 2 × 4</caption>\n",
       "<thead>\n",
       "\t<tr><th scope=col>prop_rep</th><th scope=col>avg_voter_turnout</th><th scope=col>avg_elec_comp</th><th scope=col>avg_num_party</th></tr>\n",
       "\t<tr><th scope=col>&lt;chr&gt;</th><th scope=col>&lt;dbl&gt;</th><th scope=col>&lt;dbl&gt;</th><th scope=col>&lt;dbl&gt;</th></tr>\n",
       "</thead>\n",
       "<tbody>\n",
       "\t<tr><td>no </td><td>50.66212</td><td>56.78629</td><td>3.561606</td></tr>\n",
       "\t<tr><td>yes</td><td>55.01874</td><td>60.77583</td><td>4.654132</td></tr>\n",
       "</tbody>\n",
       "</table>\n"
      ],
      "text/latex": [
       "A tibble: 2 × 4\n",
       "\\begin{tabular}{llll}\n",
       " prop\\_rep & avg\\_voter\\_turnout & avg\\_elec\\_comp & avg\\_num\\_party\\\\\n",
       " <chr> & <dbl> & <dbl> & <dbl>\\\\\n",
       "\\hline\n",
       "\t no  & 50.66212 & 56.78629 & 3.561606\\\\\n",
       "\t yes & 55.01874 & 60.77583 & 4.654132\\\\\n",
       "\\end{tabular}\n"
      ],
      "text/markdown": [
       "\n",
       "A tibble: 2 × 4\n",
       "\n",
       "| prop_rep &lt;chr&gt; | avg_voter_turnout &lt;dbl&gt; | avg_elec_comp &lt;dbl&gt; | avg_num_party &lt;dbl&gt; |\n",
       "|---|---|---|---|\n",
       "| no  | 50.66212 | 56.78629 | 3.561606 |\n",
       "| yes | 55.01874 | 60.77583 | 4.654132 |\n",
       "\n"
      ],
      "text/plain": [
       "  prop_rep avg_voter_turnout avg_elec_comp avg_num_party\n",
       "1 no       50.66212          56.78629      3.561606     \n",
       "2 yes      55.01874          60.77583      4.654132     "
      ]
     },
     "metadata": {},
     "output_type": "display_data"
    }
   ],
   "source": [
    "QOG_by_prop_rep <- QOG_cleaned %>% select(-country, -gov_type) %>%\n",
    "                    group_by(prop_rep) %>%\n",
    "                    summarize(avg_voter_turnout = mean(voter_turnout),\n",
    "                              avg_elec_comp = mean(elec_comp),\n",
    "                              avg_num_party = mean(num_party))\n",
    "QOG_by_prop_rep"
   ]
  },
  {
   "cell_type": "markdown",
   "id": "a22931d9",
   "metadata": {},
   "source": [
    "***[THING TO DO]: Explain Table 3***"
   ]
  },
  {
   "cell_type": "markdown",
   "id": "b97d9076",
   "metadata": {},
   "source": [
    "### 3.2 Preliminary Results and Visualizations"
   ]
  },
  {
   "cell_type": "code",
   "execution_count": 7,
   "id": "a5e1bae4",
   "metadata": {},
   "outputs": [
    {
     "data": {
      "image/png": "[encoded data removed]",
      "text/plain": [
       "plot without title"
      ]
     },
     "metadata": {
      "image/png": {
       "height": 420,
       "width": 420
      }
     },
     "output_type": "display_data"
    }
   ],
   "source": [
    "gov_type_boxplots <- QOG_cleaned %>%\n",
    "  ggplot() +\n",
    "  geom_boxplot(aes(gov_type, voter_turnout, fill = gov_type)) +\n",
    "  theme(\n",
    "    text = element_text(size = 12),\n",
    "    plot.title = element_text(face = \"bold\"),\n",
    "    axis.title = element_text(face = \"bold\")\n",
    "  ) +\n",
    "  ggtitle(\"Figure 1: The distribution of voter turnout \n",
    "  by the type of government\") +\n",
    "  theme(text = element_text(size = 15)) +\n",
    "  xlab(\"Government Type\") +\n",
    "  ylab(\"Voter Turnout\") +\n",
    "  stat_summary(aes(gov_type, voter_turnout, fill = gov_type),\n",
    "    fun = mean, colour = \"yellow\", geom = \"point\",\n",
    "    shape = 18, size = 5\n",
    "  )\n",
    "\n",
    "gov_type_boxplots"
   ]
  },
  {
   "cell_type": "markdown",
   "id": "bbfb19ac",
   "metadata": {},
   "source": [
    "The mean voter turnout for the unitary government type is 5% lower than that for bicaremelism, however, the variance is larger for unitary than that for bicaremelism. We can also see that there are more outliers for the unitary government type."
   ]
  },
  {
   "cell_type": "code",
   "execution_count": 8,
   "id": "47ef89a7",
   "metadata": {},
   "outputs": [
    {
     "data": {
      "image/png": "[encoded data removed]",
      "text/plain": [
       "plot without title"
      ]
     },
     "metadata": {
      "image/png": {
       "height": 420,
       "width": 420
      }
     },
     "output_type": "display_data"
    }
   ],
   "source": [
    "prop_rep_boxplots <- QOG_cleaned %>%\n",
    "    ggplot() +\n",
    "    geom_boxplot(aes(prop_rep, voter_turnout, fill = prop_rep)) +\n",
    "    theme(\n",
    "      text = element_text(size = 11),\n",
    "      plot.title = element_text(face = \"bold\"),\n",
    "      axis.title = element_text(face = \"bold\")\n",
    "    ) +\n",
    "    ggtitle(\"Figure 2: The distribution of voter turnout \n",
    "by proportional representation\") +\n",
    "    theme(text = element_text(size = 15)) +\n",
    "    xlab(\"Proportional Representation\") +\n",
    "    ylab(\"Voter Turnout\") +\n",
    "    stat_summary(aes(prop_rep, voter_turnout, fill = prop_rep),\n",
    "      fun = mean, colour = \"yellow\", geom = \"point\",\n",
    "      shape = 18, size = 5\n",
    "    )\n",
    "\n",
    "prop_rep_boxplots"
   ]
  },
  {
   "cell_type": "markdown",
   "id": "55b20aca",
   "metadata": {},
   "source": [
    "We can see that the mean for yes is 7% higher than the mean for no, with similar variances for both."
   ]
  },
  {
   "cell_type": "code",
   "execution_count": 9,
   "id": "370e0b45",
   "metadata": {},
   "outputs": [
    {
     "data": {
      "image/png": "[encoded data removed]",
      "text/plain": [
       "plot without title"
      ]
     },
     "metadata": {
      "image/png": {
       "height": 420,
       "width": 420
      }
     },
     "output_type": "display_data"
    }
   ],
   "source": [
    "QOG_cleaned_pairplots <- QOG_cleaned %>%\n",
    "    select(voter_turnout, elec_comp, num_party) %>%\n",
    "    ggpairs(progress = FALSE) +\n",
    "    theme(\n",
    "      text = element_text(size = 20),\n",
    "      plot.title = element_text(face = \"bold\"),\n",
    "      axis.title = element_text(face = \"bold\")\n",
    "    ) +\n",
    "    ggtitle(\"Figure 3: The correlation coefficients of the\n",
    "voter turnout, electorial competition, and \n",
    "the number of parties\") +\n",
    "    theme(text = element_text(size = 15))\n",
    "\n",
    "QOG_cleaned_pairplots"
   ]
  },
  {
   "cell_type": "markdown",
   "id": "4c55af2b",
   "metadata": {},
   "source": [
    "**Voter Turnout vs. Electoral Competition:** There is a very weak negative relationship between these two variables, which corresponds to the distracted scatterplot.\n",
    "\n",
    "**Voter Turnout vs. Effective Number of Parties:** This graph shows a weak negative relationship between the two variables, though, with the center of 4 effective parties and 55% of the participation rates, the plot is still scattered.\n",
    "\n",
    "The main reason for this particular correlation graph is that our dataset accounts for voter data from a vast time period and a vast selection of countries with differing political landscapes, government structures, etc."
   ]
  },
  {
   "cell_type": "markdown",
   "id": "093c3e74",
   "metadata": {},
   "source": [
    "### 3.3 [TO BE ADDED]"
   ]
  },
  {
   "cell_type": "markdown",
   "id": "b9f95485",
   "metadata": {},
   "source": [
    "***[THING TO DO]: ***"
   ]
  },
  {
   "cell_type": "code",
   "execution_count": null,
   "id": "ea038c58",
   "metadata": {},
   "outputs": [],
   "source": []
  }
 ],
 "metadata": {
  "kernelspec": {
   "display_name": "R",
   "language": "R",
   "name": "ir"
  },
  "language_info": {
   "codemirror_mode": "r",
   "file_extension": ".r",
   "mimetype": "text/x-r-source",
   "name": "R",
   "pygments_lexer": "r",
   "version": "4.2.2"
  }
 },
 "nbformat": 4,
 "nbformat_minor": 5
}
