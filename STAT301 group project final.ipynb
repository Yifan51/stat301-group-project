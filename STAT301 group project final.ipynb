{
 "cells": [
  {
   "cell_type": "markdown",
   "id": "b1a18856",
   "metadata": {},
   "source": [
    "# Does Political Structure Influence Voter Turnout in Industrialized Democracy?\n",
    "\n",
    "### STAT 301  - Group Project - Final Report\n",
    "\n",
    "By, Group 6:\n",
    "- Rohan Joseph\n",
    "- Alan Lee\n",
    "- Buyun Wang\n",
    "- Yifan Wu"
   ]
  },
  {
   "cell_type": "code",
   "execution_count": 1,
   "id": "4c1fdfa9",
   "metadata": {},
   "outputs": [],
   "source": [
    "# Please install the required packages if not already installed\n",
    "\n",
    "# install.packages(\"faux\")\n",
    "# install.packages(\"leaps\")\n",
    "# install.packages(\"car\")\n",
    "# install.packages(\"mltools\")"
   ]
  },
  {
   "cell_type": "code",
   "execution_count": 2,
   "id": "1101e99c",
   "metadata": {},
   "outputs": [
    {
     "name": "stderr",
     "output_type": "stream",
     "text": [
      "Loading required package: ggplot2\n",
      "\n",
      "Registered S3 method overwritten by 'GGally':\n",
      "  method from   \n",
      "  +.gg   ggplot2\n",
      "\n",
      "\n",
      "Attaching package: 'dplyr'\n",
      "\n",
      "\n",
      "The following objects are masked from 'package:stats':\n",
      "\n",
      "    filter, lag\n",
      "\n",
      "\n",
      "The following objects are masked from 'package:base':\n",
      "\n",
      "    intersect, setdiff, setequal, union\n",
      "\n",
      "\n",
      "── \u001b[1mAttaching packages\u001b[22m ─────────────────────────────────────────────────────────────────────────────── tidyverse 1.3.2 ──\n",
      "\u001b[32m✔\u001b[39m \u001b[34mtibble \u001b[39m 3.1.8     \u001b[32m✔\u001b[39m \u001b[34mpurrr  \u001b[39m 0.3.5\n",
      "\u001b[32m✔\u001b[39m \u001b[34mtidyr  \u001b[39m 1.2.1     \u001b[32m✔\u001b[39m \u001b[34mstringr\u001b[39m 1.4.1\n",
      "\u001b[32m✔\u001b[39m \u001b[34mreadr  \u001b[39m 2.1.3     \u001b[32m✔\u001b[39m \u001b[34mforcats\u001b[39m 0.5.2\n",
      "── \u001b[1mConflicts\u001b[22m ────────────────────────────────────────────────────────────────────────────────── tidyverse_conflicts() ──\n",
      "\u001b[31m✖\u001b[39m \u001b[34mdplyr\u001b[39m::\u001b[32mfilter()\u001b[39m masks \u001b[34mstats\u001b[39m::filter()\n",
      "\u001b[31m✖\u001b[39m \u001b[34mdplyr\u001b[39m::\u001b[32mlag()\u001b[39m    masks \u001b[34mstats\u001b[39m::lag()\n",
      "\n",
      "************\n",
      "Welcome to faux. For support and examples visit:\n",
      "https://debruine.github.io/faux/\n",
      "- Get and set global package options with: faux_options()\n",
      "************\n",
      "\n",
      "\n",
      "Attaching package: 'faux'\n",
      "\n",
      "\n",
      "The following object is masked from 'package:purrr':\n",
      "\n",
      "    %||%\n",
      "\n",
      "\n",
      "Loading required package: carData\n",
      "\n",
      "\n",
      "Attaching package: 'car'\n",
      "\n",
      "\n",
      "The following object is masked from 'package:purrr':\n",
      "\n",
      "    some\n",
      "\n",
      "\n",
      "The following object is masked from 'package:dplyr':\n",
      "\n",
      "    recode\n",
      "\n",
      "\n",
      "\n",
      "Attaching package: 'mltools'\n",
      "\n",
      "\n",
      "The following object is masked from 'package:tidyr':\n",
      "\n",
      "    replace_na\n",
      "\n",
      "\n"
     ]
    }
   ],
   "source": [
    "# Load the necessary packages for the Project Report\n",
    "\n",
    "library(GGally)\n",
    "library(dplyr)\n",
    "library(tidyverse)\n",
    "library(repr)\n",
    "library(digest)\n",
    "library(infer)\n",
    "library(cowplot)\n",
    "library(broom)\n",
    "library(faux)\n",
    "library(leaps)\n",
    "library(car)\n",
    "library(mltools)"
   ]
  },
  {
   "cell_type": "markdown",
   "id": "6e878a8c",
   "metadata": {},
   "source": [
    "## 1. Introduction"
   ]
  },
  {
   "cell_type": "markdown",
   "id": "f8ebedf9",
   "metadata": {},
   "source": [
    "The two competing explanations for differences in voter turnout between countries in the literature is either cultural or institution-based. The cultural argument traditionally cites Almond and Verba’s (1963) work that turnout depends on the unique, participatory culture of each country. Alternatively, the classic work by Jackman (1987) suggests the structure of a country’s political institutions has a “major and predictable” impact on voting rates regardless of cultural differences (p. 406). However, Jackman’s shortcoming was he could only compare 19 countries in the 1970s. Thus his results might not be generalizable to all elections and industrialized democracies. Subsequent studies mostly focused on country-specific elections but have cast doubt on whether institutional factors have an effect (Freitag, 2010). This study, therefore, aims to test Jackman’s claims that voter turnout is majorly impacted by the structure of political institutions in industrialized democracies by using a more comprehensive and updated dataset.\n",
    "\n",
    "The QOG dataset will be from the Quality of Government Institute, where researchers compiled measures for each country from hundreds of sources (Teorell et. al., 2022). The dataset has information from 1960 to 2018 for the 36 OECD and EU democracies, however, after cleaning the data, observations for 35 countries remain with data for x elections. We base our methods on Jackman (1987), and will build a regression of the voter turnout against institutional measures of electoral competitiveness, multipartyism, electoral proportionality, and whether the legislature is bicameral. In addition, as our modern dataset has measures for other variables related to government structure, we will also attempt to generate a larger model and compare its ability to explain voter turnout to Jackman’s. The additional variables we test for will be the egalitarianism of the political process and the ability of all social groups to participate, women’s political empowerment in the government, the presence of corruption by the executive, and corruption by the legislature. These additional variables are indexes compiled by 3rd party experts reporting on the country based on relevant criteria. \n",
    "\n",
    "The dataset can be found at: https://www.qogdata.pol.gu.se/data/codebook_std_jan22.pdf\n",
    "\n",
    "Ultimately, we aim to reduce the uncertainty around Jackman’s findings on whether these factors of government institutions are significant in voter turnout and offer an alternative model. By identifying whether reform in institutions might promote more voter participation we hope to encourage more policies to improve voting. "
   ]
  },
  {
   "cell_type": "markdown",
   "id": "d2c36769",
   "metadata": {},
   "source": [
    "## 2. Data Wrangling, Cleaning and Explanatory Analysis"
   ]
  },
  {
   "cell_type": "markdown",
   "id": "f52ea130",
   "metadata": {},
   "source": [
    "### 2.1 Importing the Dataset"
   ]
  },
  {
   "cell_type": "code",
   "execution_count": 3,
   "id": "e3497a2d",
   "metadata": {},
   "outputs": [
    {
     "name": "stderr",
     "output_type": "stream",
     "text": [
      "Warning message:\n",
      "\"\u001b[1m\u001b[22mOne or more parsing issues, call `problems()` on your data frame for details, e.g.:\n",
      "  dat <- vroom(...)\n",
      "  problems(dat)\"\n",
      "\u001b[1mRows: \u001b[22m\u001b[34m15168\u001b[39m \u001b[1mColumns: \u001b[22m\u001b[34m1913\u001b[39m\n",
      "\u001b[36m──\u001b[39m \u001b[1mColumn specification\u001b[22m \u001b[36m────────────────────────────────────────────────────────────────────────────────────────────────\u001b[39m\n",
      "\u001b[1mDelimiter:\u001b[22m \",\"\n",
      "\u001b[31mchr\u001b[39m    (7): cname, cname_qog, ccodealp, version, cname_year, ccodealp_year, ...\n",
      "\u001b[32mdbl\u001b[39m (1903): ccode, year, ccode_qog, ccodecow, aid_cpnc, aid_cpsc, aid_crnc, ...\n",
      "\u001b[33mlgl\u001b[39m    (3): psi_cpsi2, psi_edate2, psi_psi2\n",
      "\n",
      "\u001b[36mℹ\u001b[39m Use `spec()` to retrieve the full column specification for this data.\n",
      "\u001b[36mℹ\u001b[39m Specify the column types or set `show_col_types = FALSE` to quiet this message.\n"
     ]
    }
   ],
   "source": [
    "url <- \"https://www.qogdata.pol.gu.se/data/qog_std_ts_jan22.csv\"\n",
    "QOG_dataset_original <- read_delim(url, \",\")"
   ]
  },
  {
   "cell_type": "markdown",
   "id": "58303614",
   "metadata": {},
   "source": [
    "### 2.2 Cleaning the Dataset\n",
    "\n",
    "***Response:*** *van_part* (how many people go vote at an election)\n",
    "\n",
    "***Original Variables:*** *van_comp, jw_bicameral, br_pvote, cpds_enps* (competitiveness, bicameral, proportional voting, effective number of parties\n",
    "\n",
    "***New Variables:*** *vdem_egal, vdem_gender, vdem_gcrrpt, vdem_execorr*\n",
    "- **vdem_egal:** Index on how much state tries to improve egalitarian measures (The egalitarian principle of democracy holds that material and immaterial inequalities inhibit the exercise of formal rights and liberties, and diminish the ability of citizens from all social groups to participate)\n",
    "- **vdem_gender:**  Women political empowerment index - Women traditionally are excluded from politics, so how much does policies to improve the number of women in the electoral process, improve turnout?\n",
    "- **vdem_gcrrpt:** Index of reported corruption in legislature (eg. congress)\n",
    "- **vdem_execorr:** Index of corruption in executive (eg. president)\n",
    "\n",
    "***NOTE:*** *vdem_gcrrpt* and *vdem_execorr* are like how does the amount of corruption (stealing money, giving important roles to family and friends, etc) affect people's turn out. Do people show up more to change things or just give up on voting? "
   ]
  },
  {
   "cell_type": "code",
   "execution_count": 4,
   "id": "a3c78fbd",
   "metadata": {},
   "outputs": [
    {
     "data": {
      "text/html": [
       "<table class=\"dataframe\">\n",
       "<caption>A tibble: 6 × 10</caption>\n",
       "<thead>\n",
       "\t<tr><th scope=col>country</th><th scope=col>voter_turnout</th><th scope=col>elec_comp</th><th scope=col>gov_type</th><th scope=col>prop_rep</th><th scope=col>num_party</th><th scope=col>index_ega</th><th scope=col>index_woman</th><th scope=col>index_legis</th><th scope=col>index_exe</th></tr>\n",
       "\t<tr><th scope=col>&lt;chr&gt;</th><th scope=col>&lt;dbl&gt;</th><th scope=col>&lt;dbl&gt;</th><th scope=col>&lt;chr&gt;</th><th scope=col>&lt;chr&gt;</th><th scope=col>&lt;dbl&gt;</th><th scope=col>&lt;dbl&gt;</th><th scope=col>&lt;dbl&gt;</th><th scope=col>&lt;dbl&gt;</th><th scope=col>&lt;dbl&gt;</th></tr>\n",
       "</thead>\n",
       "<tbody>\n",
       "\t<tr><td>Australia</td><td>51.0</td><td>57.1</td><td>unitary</td><td>no</td><td>2.973527</td><td>0.787</td><td>0.600</td><td>3.071</td><td>0.072</td></tr>\n",
       "\t<tr><td>Australia</td><td>51.1</td><td>52.0</td><td>unitary</td><td>no</td><td>2.814222</td><td>0.787</td><td>0.600</td><td>3.071</td><td>0.072</td></tr>\n",
       "\t<tr><td>Australia</td><td>50.1</td><td>52.0</td><td>unitary</td><td>no</td><td>2.814222</td><td>0.787</td><td>0.602</td><td>3.071</td><td>0.072</td></tr>\n",
       "\t<tr><td>Australia</td><td>50.3</td><td>54.5</td><td>unitary</td><td>no</td><td>2.792805</td><td>0.787</td><td>0.602</td><td>3.071</td><td>0.072</td></tr>\n",
       "\t<tr><td>Australia</td><td>50.3</td><td>54.5</td><td>unitary</td><td>no</td><td>2.792805</td><td>0.787</td><td>0.602</td><td>3.071</td><td>0.072</td></tr>\n",
       "\t<tr><td>Australia</td><td>51.3</td><td>54.5</td><td>unitary</td><td>no</td><td>2.792805</td><td>0.787</td><td>0.602</td><td>3.071</td><td>0.072</td></tr>\n",
       "</tbody>\n",
       "</table>\n"
      ],
      "text/latex": [
       "A tibble: 6 × 10\n",
       "\\begin{tabular}{llllllllll}\n",
       " country & voter\\_turnout & elec\\_comp & gov\\_type & prop\\_rep & num\\_party & index\\_ega & index\\_woman & index\\_legis & index\\_exe\\\\\n",
       " <chr> & <dbl> & <dbl> & <chr> & <chr> & <dbl> & <dbl> & <dbl> & <dbl> & <dbl>\\\\\n",
       "\\hline\n",
       "\t Australia & 51.0 & 57.1 & unitary & no & 2.973527 & 0.787 & 0.600 & 3.071 & 0.072\\\\\n",
       "\t Australia & 51.1 & 52.0 & unitary & no & 2.814222 & 0.787 & 0.600 & 3.071 & 0.072\\\\\n",
       "\t Australia & 50.1 & 52.0 & unitary & no & 2.814222 & 0.787 & 0.602 & 3.071 & 0.072\\\\\n",
       "\t Australia & 50.3 & 54.5 & unitary & no & 2.792805 & 0.787 & 0.602 & 3.071 & 0.072\\\\\n",
       "\t Australia & 50.3 & 54.5 & unitary & no & 2.792805 & 0.787 & 0.602 & 3.071 & 0.072\\\\\n",
       "\t Australia & 51.3 & 54.5 & unitary & no & 2.792805 & 0.787 & 0.602 & 3.071 & 0.072\\\\\n",
       "\\end{tabular}\n"
      ],
      "text/markdown": [
       "\n",
       "A tibble: 6 × 10\n",
       "\n",
       "| country &lt;chr&gt; | voter_turnout &lt;dbl&gt; | elec_comp &lt;dbl&gt; | gov_type &lt;chr&gt; | prop_rep &lt;chr&gt; | num_party &lt;dbl&gt; | index_ega &lt;dbl&gt; | index_woman &lt;dbl&gt; | index_legis &lt;dbl&gt; | index_exe &lt;dbl&gt; |\n",
       "|---|---|---|---|---|---|---|---|---|---|\n",
       "| Australia | 51.0 | 57.1 | unitary | no | 2.973527 | 0.787 | 0.600 | 3.071 | 0.072 |\n",
       "| Australia | 51.1 | 52.0 | unitary | no | 2.814222 | 0.787 | 0.600 | 3.071 | 0.072 |\n",
       "| Australia | 50.1 | 52.0 | unitary | no | 2.814222 | 0.787 | 0.602 | 3.071 | 0.072 |\n",
       "| Australia | 50.3 | 54.5 | unitary | no | 2.792805 | 0.787 | 0.602 | 3.071 | 0.072 |\n",
       "| Australia | 50.3 | 54.5 | unitary | no | 2.792805 | 0.787 | 0.602 | 3.071 | 0.072 |\n",
       "| Australia | 51.3 | 54.5 | unitary | no | 2.792805 | 0.787 | 0.602 | 3.071 | 0.072 |\n",
       "\n"
      ],
      "text/plain": [
       "  country   voter_turnout elec_comp gov_type prop_rep num_party index_ega\n",
       "1 Australia 51.0          57.1      unitary  no       2.973527  0.787    \n",
       "2 Australia 51.1          52.0      unitary  no       2.814222  0.787    \n",
       "3 Australia 50.1          52.0      unitary  no       2.814222  0.787    \n",
       "4 Australia 50.3          54.5      unitary  no       2.792805  0.787    \n",
       "5 Australia 50.3          54.5      unitary  no       2.792805  0.787    \n",
       "6 Australia 51.3          54.5      unitary  no       2.792805  0.787    \n",
       "  index_woman index_legis index_exe\n",
       "1 0.600       3.071       0.072    \n",
       "2 0.600       3.071       0.072    \n",
       "3 0.602       3.071       0.072    \n",
       "4 0.602       3.071       0.072    \n",
       "5 0.602       3.071       0.072    \n",
       "6 0.602       3.071       0.072    "
      ]
     },
     "metadata": {},
     "output_type": "display_data"
    }
   ],
   "source": [
    "# For cleaning up the dataset we will be doing the following:.\n",
    "# - We will be renaming our selected variables for better readability.\n",
    "# - We will be filtering out the NA rows when applicable.\n",
    "\n",
    "QOG_cleaned <- QOG_dataset_original %>% \n",
    "                select(cname, van_part, van_comp, jw_bicameral, br_pvote, cpds_enpv, \n",
    "                      vdem_egal, vdem_gender, vdem_gcrrpt, vdem_execorr) \n",
    "\n",
    "colnames(QOG_cleaned) <- c(\"country\", \"voter_turnout\", \"elec_comp\", \"gov_type\", \"prop_rep\", \"num_party\",\n",
    "                           \"index_ega\", \"index_woman\", \"index_legis\", \"index_exe\")\n",
    "\n",
    "QOG_cleaned <- QOG_cleaned %>%\n",
    "                mutate(gov_type = ifelse(is.na(gov_type), 0, gov_type)) %>%\n",
    "                mutate(gov_type = ifelse(gov_type == 0, \"unitary\", \"bicaremel\")) %>%\n",
    "                mutate(prop_rep = ifelse(prop_rep == 0, \"no\", \"yes\")) %>%\n",
    "                filter(country != is.na(country),\n",
    "                       voter_turnout != is.na(voter_turnout),\n",
    "                       elec_comp != is.na(elec_comp),\n",
    "                       gov_type != is.na(gov_type),\n",
    "                       prop_rep != is.na(prop_rep),\n",
    "                       num_party != is.na(num_party),\n",
    "                       index_ega != is.na(index_ega),\n",
    "                       index_woman != is.na(index_woman),\n",
    "                       index_legis != is.na(index_legis),\n",
    "                       index_exe != is.na(index_exe))\n",
    "\n",
    "head(QOG_cleaned)"
   ]
  },
  {
   "cell_type": "code",
   "execution_count": 5,
   "id": "8e9dc34b",
   "metadata": {},
   "outputs": [
    {
     "data": {
      "text/html": [
       "<table class=\"dataframe\">\n",
       "<caption>A tibble: 6 × 10</caption>\n",
       "<thead>\n",
       "\t<tr><th scope=col>country</th><th scope=col>voter_turnout</th><th scope=col>elec_comp</th><th scope=col>gov_type</th><th scope=col>prop_rep</th><th scope=col>num_party</th><th scope=col>index_ega</th><th scope=col>index_woman</th><th scope=col>index_legis</th><th scope=col>index_exe</th></tr>\n",
       "\t<tr><th scope=col>&lt;chr&gt;</th><th scope=col>&lt;dbl&gt;</th><th scope=col>&lt;dbl&gt;</th><th scope=col>&lt;fct&gt;</th><th scope=col>&lt;fct&gt;</th><th scope=col>&lt;dbl&gt;</th><th scope=col>&lt;dbl&gt;</th><th scope=col>&lt;dbl&gt;</th><th scope=col>&lt;dbl&gt;</th><th scope=col>&lt;dbl&gt;</th></tr>\n",
       "</thead>\n",
       "<tbody>\n",
       "\t<tr><td>Australia</td><td>51.0</td><td>57.1</td><td>unitary</td><td>no</td><td>2.973527</td><td>0.787</td><td>0.600</td><td>3.071</td><td>0.072</td></tr>\n",
       "\t<tr><td>Australia</td><td>51.1</td><td>52.0</td><td>unitary</td><td>no</td><td>2.814222</td><td>0.787</td><td>0.600</td><td>3.071</td><td>0.072</td></tr>\n",
       "\t<tr><td>Australia</td><td>50.1</td><td>52.0</td><td>unitary</td><td>no</td><td>2.814222</td><td>0.787</td><td>0.602</td><td>3.071</td><td>0.072</td></tr>\n",
       "\t<tr><td>Australia</td><td>50.3</td><td>54.5</td><td>unitary</td><td>no</td><td>2.792805</td><td>0.787</td><td>0.602</td><td>3.071</td><td>0.072</td></tr>\n",
       "\t<tr><td>Australia</td><td>50.3</td><td>54.5</td><td>unitary</td><td>no</td><td>2.792805</td><td>0.787</td><td>0.602</td><td>3.071</td><td>0.072</td></tr>\n",
       "\t<tr><td>Australia</td><td>51.3</td><td>54.5</td><td>unitary</td><td>no</td><td>2.792805</td><td>0.787</td><td>0.602</td><td>3.071</td><td>0.072</td></tr>\n",
       "</tbody>\n",
       "</table>\n"
      ],
      "text/latex": [
       "A tibble: 6 × 10\n",
       "\\begin{tabular}{llllllllll}\n",
       " country & voter\\_turnout & elec\\_comp & gov\\_type & prop\\_rep & num\\_party & index\\_ega & index\\_woman & index\\_legis & index\\_exe\\\\\n",
       " <chr> & <dbl> & <dbl> & <fct> & <fct> & <dbl> & <dbl> & <dbl> & <dbl> & <dbl>\\\\\n",
       "\\hline\n",
       "\t Australia & 51.0 & 57.1 & unitary & no & 2.973527 & 0.787 & 0.600 & 3.071 & 0.072\\\\\n",
       "\t Australia & 51.1 & 52.0 & unitary & no & 2.814222 & 0.787 & 0.600 & 3.071 & 0.072\\\\\n",
       "\t Australia & 50.1 & 52.0 & unitary & no & 2.814222 & 0.787 & 0.602 & 3.071 & 0.072\\\\\n",
       "\t Australia & 50.3 & 54.5 & unitary & no & 2.792805 & 0.787 & 0.602 & 3.071 & 0.072\\\\\n",
       "\t Australia & 50.3 & 54.5 & unitary & no & 2.792805 & 0.787 & 0.602 & 3.071 & 0.072\\\\\n",
       "\t Australia & 51.3 & 54.5 & unitary & no & 2.792805 & 0.787 & 0.602 & 3.071 & 0.072\\\\\n",
       "\\end{tabular}\n"
      ],
      "text/markdown": [
       "\n",
       "A tibble: 6 × 10\n",
       "\n",
       "| country &lt;chr&gt; | voter_turnout &lt;dbl&gt; | elec_comp &lt;dbl&gt; | gov_type &lt;fct&gt; | prop_rep &lt;fct&gt; | num_party &lt;dbl&gt; | index_ega &lt;dbl&gt; | index_woman &lt;dbl&gt; | index_legis &lt;dbl&gt; | index_exe &lt;dbl&gt; |\n",
       "|---|---|---|---|---|---|---|---|---|---|\n",
       "| Australia | 51.0 | 57.1 | unitary | no | 2.973527 | 0.787 | 0.600 | 3.071 | 0.072 |\n",
       "| Australia | 51.1 | 52.0 | unitary | no | 2.814222 | 0.787 | 0.600 | 3.071 | 0.072 |\n",
       "| Australia | 50.1 | 52.0 | unitary | no | 2.814222 | 0.787 | 0.602 | 3.071 | 0.072 |\n",
       "| Australia | 50.3 | 54.5 | unitary | no | 2.792805 | 0.787 | 0.602 | 3.071 | 0.072 |\n",
       "| Australia | 50.3 | 54.5 | unitary | no | 2.792805 | 0.787 | 0.602 | 3.071 | 0.072 |\n",
       "| Australia | 51.3 | 54.5 | unitary | no | 2.792805 | 0.787 | 0.602 | 3.071 | 0.072 |\n",
       "\n"
      ],
      "text/plain": [
       "  country   voter_turnout elec_comp gov_type prop_rep num_party index_ega\n",
       "1 Australia 51.0          57.1      unitary  no       2.973527  0.787    \n",
       "2 Australia 51.1          52.0      unitary  no       2.814222  0.787    \n",
       "3 Australia 50.1          52.0      unitary  no       2.814222  0.787    \n",
       "4 Australia 50.3          54.5      unitary  no       2.792805  0.787    \n",
       "5 Australia 50.3          54.5      unitary  no       2.792805  0.787    \n",
       "6 Australia 51.3          54.5      unitary  no       2.792805  0.787    \n",
       "  index_woman index_legis index_exe\n",
       "1 0.600       3.071       0.072    \n",
       "2 0.600       3.071       0.072    \n",
       "3 0.602       3.071       0.072    \n",
       "4 0.602       3.071       0.072    \n",
       "5 0.602       3.071       0.072    \n",
       "6 0.602       3.071       0.072    "
      ]
     },
     "metadata": {},
     "output_type": "display_data"
    }
   ],
   "source": [
    "QOG_cleaned$gov_type <- as.factor(QOG_cleaned$gov_type) \n",
    "QOG_cleaned$prop_rep <- as.factor(QOG_cleaned$prop_rep)\n",
    "\n",
    "head(QOG_cleaned)"
   ]
  },
  {
   "cell_type": "code",
   "execution_count": 6,
   "id": "9e464912",
   "metadata": {},
   "outputs": [
    {
     "data": {
      "text/html": [
       "89.0361286919831"
      ],
      "text/latex": [
       "89.0361286919831"
      ],
      "text/markdown": [
       "89.0361286919831"
      ],
      "text/plain": [
       "[1] 89.03613"
      ]
     },
     "metadata": {},
     "output_type": "display_data"
    }
   ],
   "source": [
    "prop_of_missing_data <- (1 - nrow(QOG_cleaned)/nrow(QOG_dataset_original)) * 100\n",
    "prop_of_missing_data"
   ]
  },
  {
   "cell_type": "markdown",
   "id": "55bb3a3b",
   "metadata": {},
   "source": [
    "As can be seen, only 11% of the data is used in this analysis, whilst the remaining 89% is discarded due the presence of NA (NULL) values in their respective rows. This is a limitation of the dataset as  there is an abundance of accurate election data for developed countries whereas there were often NA entries for developing countries. As such the model is only generalizable to OECD democracies. As developing countries are generally weak states they either do not have full control of their territories or have weak government agencies who cannot accurately record data on their populations."
   ]
  },
  {
   "cell_type": "markdown",
   "id": "4d8fc778",
   "metadata": {},
   "source": [
    "### 2.3 Summary Tables\n",
    "\n",
    "We will be building summary tables just to see the averages for the data, by country, government type, and whether there is a proportional representation or not."
   ]
  },
  {
   "cell_type": "markdown",
   "id": "b2481710",
   "metadata": {},
   "source": [
    "**Table 1: Summary of the Data by Country**"
   ]
  },
  {
   "cell_type": "code",
   "execution_count": 7,
   "id": "98b37a4a",
   "metadata": {
    "scrolled": false
   },
   "outputs": [
    {
     "data": {
      "text/html": [
       "<table class=\"dataframe\">\n",
       "<caption>A tibble: 35 × 8</caption>\n",
       "<thead>\n",
       "\t<tr><th scope=col>country</th><th scope=col>avg_voter_turnout</th><th scope=col>avg_elec_comp</th><th scope=col>avg_num_party</th><th scope=col>avg_index_ega</th><th scope=col>avg_index_woman</th><th scope=col>avg_index_legis</th><th scope=col>avg_index_exe</th></tr>\n",
       "\t<tr><th scope=col>&lt;chr&gt;</th><th scope=col>&lt;dbl&gt;</th><th scope=col>&lt;dbl&gt;</th><th scope=col>&lt;dbl&gt;</th><th scope=col>&lt;dbl&gt;</th><th scope=col>&lt;dbl&gt;</th><th scope=col>&lt;dbl&gt;</th><th scope=col>&lt;dbl&gt;</th></tr>\n",
       "</thead>\n",
       "<tbody>\n",
       "\t<tr><td>Australia                                                 </td><td>58.09051</td><td>57.47119</td><td>3.078265</td><td>0.8575763</td><td>0.8325085</td><td>3.074763</td><td>0.046745763</td></tr>\n",
       "\t<tr><td>Austria                                                   </td><td>61.09593</td><td>58.54407</td><td>3.167171</td><td>0.8881864</td><td>0.8454407</td><td>2.830034</td><td>0.068677966</td></tr>\n",
       "\t<tr><td>Belgium                                                   </td><td>60.26864</td><td>68.20339</td><td>7.853640</td><td>0.9311186</td><td>0.8678475</td><td>3.170831</td><td>0.020016949</td></tr>\n",
       "\t<tr><td>Bulgaria                                                  </td><td>53.35724</td><td>54.97000</td><td>4.442549</td><td>0.7773103</td><td>0.9119310</td><td>1.869793</td><td>0.248793103</td></tr>\n",
       "\t<tr><td>Canada                                                    </td><td>44.63186</td><td>58.11695</td><td>3.312809</td><td>0.8449153</td><td>0.8678814</td><td>2.924237</td><td>0.036186441</td></tr>\n",
       "\t<tr><td>Croatia                                                   </td><td>54.46421</td><td>51.51158</td><td>5.927319</td><td>0.8070526</td><td>0.9116842</td><td>1.865526</td><td>0.279368421</td></tr>\n",
       "\t<tr><td>Cyprus                                                    </td><td>46.20209</td><td>63.28744</td><td>3.681789</td><td>0.8071163</td><td>0.7395581</td><td>2.507535</td><td>0.184372093</td></tr>\n",
       "\t<tr><td>Czechia                                                   </td><td>53.00615</td><td>65.46923</td><td>5.817482</td><td>0.9106923</td><td>0.9141538</td><td>2.699385</td><td>0.333192308</td></tr>\n",
       "\t<tr><td>Denmark                                                   </td><td>62.96000</td><td>65.84237</td><td>5.091167</td><td>0.9608475</td><td>0.9485932</td><td>3.851932</td><td>0.004000000</td></tr>\n",
       "\t<tr><td>Estonia                                                   </td><td>38.58444</td><td>69.67407</td><td>5.911875</td><td>0.8821111</td><td>0.9174815</td><td>2.958333</td><td>0.061777778</td></tr>\n",
       "\t<tr><td>Finland                                                   </td><td>53.07424</td><td>61.09661</td><td>5.875387</td><td>0.9220000</td><td>0.9198475</td><td>3.439271</td><td>0.020593220</td></tr>\n",
       "\t<tr><td>France                                                    </td><td>46.03746</td><td>61.43220</td><td>5.175054</td><td>0.8622881</td><td>0.8675763</td><td>2.944000</td><td>0.092796610</td></tr>\n",
       "\t<tr><td>Germany                                                   </td><td>58.55763</td><td>57.25153</td><td>3.794523</td><td>0.9225254</td><td>0.8826102</td><td>3.403000</td><td>0.009881356</td></tr>\n",
       "\t<tr><td>Greece                                                    </td><td>61.37490</td><td>53.82745</td><td>3.109344</td><td>0.8532549</td><td>0.8438627</td><td>2.556941</td><td>0.285509804</td></tr>\n",
       "\t<tr><td>Hungary                                                   </td><td>52.37690</td><td>57.05138</td><td>4.027864</td><td>0.8065862</td><td>0.8854483</td><td>1.521448</td><td>0.437827586</td></tr>\n",
       "\t<tr><td>Iceland                                                   </td><td>56.56237</td><td>63.78305</td><td>4.293476</td><td>0.9100339</td><td>0.8351864</td><td>3.444729</td><td>0.017000000</td></tr>\n",
       "\t<tr><td>Ireland                                                   </td><td>50.04655</td><td>57.19483</td><td>3.568527</td><td>0.8415345</td><td>0.7879655</td><td>2.565397</td><td>0.132948276</td></tr>\n",
       "\t<tr><td>Italy                                                     </td><td>64.16881</td><td>61.91525</td><td>4.910360</td><td>0.8915254</td><td>0.8100678</td><td>2.098034</td><td>0.116389831</td></tr>\n",
       "\t<tr><td>Japan                                                     </td><td>47.97559</td><td>53.07322</td><td>3.577916</td><td>0.9100000</td><td>0.7339831</td><td>2.404305</td><td>0.135050847</td></tr>\n",
       "\t<tr><td>Latvia                                                    </td><td>41.14346</td><td>69.72308</td><td>6.858101</td><td>0.8148846</td><td>0.9408462</td><td>2.168962</td><td>0.151807692</td></tr>\n",
       "\t<tr><td>Lithuania                                                 </td><td>39.03778</td><td>67.64074</td><td>6.547052</td><td>0.8902222</td><td>0.9064815</td><td>2.433519</td><td>0.046592593</td></tr>\n",
       "\t<tr><td>Luxembourg                                                </td><td>46.25000</td><td>66.32203</td><td>4.177285</td><td>0.9417119</td><td>0.8446610</td><td>3.770000</td><td>0.012000000</td></tr>\n",
       "\t<tr><td>Malta                                                     </td><td>63.75208</td><td>48.97962</td><td>2.067521</td><td>0.8722075</td><td>0.7694717</td><td>2.564585</td><td>0.369622642</td></tr>\n",
       "\t<tr><td>Netherlands (the)                                         </td><td>57.42068</td><td>68.81525</td><td>5.365836</td><td>0.9143220</td><td>0.8713559</td><td>3.428237</td><td>0.022338983</td></tr>\n",
       "\t<tr><td>New Zealand                                               </td><td>53.60644</td><td>56.39644</td><td>3.005602</td><td>0.8647627</td><td>0.8770000</td><td>3.642000</td><td>0.011000000</td></tr>\n",
       "\t<tr><td>Norway                                                    </td><td>57.58814</td><td>62.46678</td><td>4.486368</td><td>0.9636780</td><td>0.9285593</td><td>3.826000</td><td>0.012220339</td></tr>\n",
       "\t<tr><td>Poland                                                    </td><td>40.01286</td><td>57.81071</td><td>5.773146</td><td>0.8843571</td><td>0.9188929</td><td>2.619000</td><td>0.079464286</td></tr>\n",
       "\t<tr><td>Portugal                                                  </td><td>53.29256</td><td>50.44279</td><td>3.351676</td><td>0.8907907</td><td>0.8865814</td><td>2.603884</td><td>0.066604651</td></tr>\n",
       "\t<tr><td>Romania                                                   </td><td>47.47414</td><td>50.66448</td><td>4.510538</td><td>0.7741379</td><td>0.8268966</td><td>1.194345</td><td>0.479862069</td></tr>\n",
       "\t<tr><td>Slovakia                                                  </td><td>49.91077</td><td>59.22769</td><td>6.180422</td><td>0.7824615</td><td>0.8898846</td><td>1.790615</td><td>0.256500000</td></tr>\n",
       "\t<tr><td>Slovenia                                                  </td><td>51.29964</td><td>55.18143</td><td>5.983035</td><td>0.9056071</td><td>0.8922143</td><td>1.565429</td><td>0.168464286</td></tr>\n",
       "\t<tr><td>Sweden                                                    </td><td>62.70271</td><td>58.95186</td><td>4.034581</td><td>0.9444407</td><td>0.9228305</td><td>3.836000</td><td>0.004000000</td></tr>\n",
       "\t<tr><td>Switzerland                                               </td><td>50.55254</td><td>70.00000</td><td>5.991083</td><td>0.9019661</td><td>0.8397627</td><td>3.118864</td><td>0.012000000</td></tr>\n",
       "\t<tr><td>United Kingdom of Great Britain and Northern Ireland (the)</td><td>51.89864</td><td>58.02237</td><td>3.061182</td><td>0.8223220</td><td>0.8187458</td><td>3.120339</td><td>0.027796610</td></tr>\n",
       "\t<tr><td>United States of America (the)                            </td><td>59.10780</td><td>48.61695</td><td>2.095840</td><td>0.7310678</td><td>0.8050000</td><td>2.781661</td><td>0.035254237</td></tr>\n",
       "</tbody>\n",
       "</table>\n"
      ],
      "text/latex": [
       "A tibble: 35 × 8\n",
       "\\begin{tabular}{llllllll}\n",
       " country & avg\\_voter\\_turnout & avg\\_elec\\_comp & avg\\_num\\_party & avg\\_index\\_ega & avg\\_index\\_woman & avg\\_index\\_legis & avg\\_index\\_exe\\\\\n",
       " <chr> & <dbl> & <dbl> & <dbl> & <dbl> & <dbl> & <dbl> & <dbl>\\\\\n",
       "\\hline\n",
       "\t Australia                                                  & 58.09051 & 57.47119 & 3.078265 & 0.8575763 & 0.8325085 & 3.074763 & 0.046745763\\\\\n",
       "\t Austria                                                    & 61.09593 & 58.54407 & 3.167171 & 0.8881864 & 0.8454407 & 2.830034 & 0.068677966\\\\\n",
       "\t Belgium                                                    & 60.26864 & 68.20339 & 7.853640 & 0.9311186 & 0.8678475 & 3.170831 & 0.020016949\\\\\n",
       "\t Bulgaria                                                   & 53.35724 & 54.97000 & 4.442549 & 0.7773103 & 0.9119310 & 1.869793 & 0.248793103\\\\\n",
       "\t Canada                                                     & 44.63186 & 58.11695 & 3.312809 & 0.8449153 & 0.8678814 & 2.924237 & 0.036186441\\\\\n",
       "\t Croatia                                                    & 54.46421 & 51.51158 & 5.927319 & 0.8070526 & 0.9116842 & 1.865526 & 0.279368421\\\\\n",
       "\t Cyprus                                                     & 46.20209 & 63.28744 & 3.681789 & 0.8071163 & 0.7395581 & 2.507535 & 0.184372093\\\\\n",
       "\t Czechia                                                    & 53.00615 & 65.46923 & 5.817482 & 0.9106923 & 0.9141538 & 2.699385 & 0.333192308\\\\\n",
       "\t Denmark                                                    & 62.96000 & 65.84237 & 5.091167 & 0.9608475 & 0.9485932 & 3.851932 & 0.004000000\\\\\n",
       "\t Estonia                                                    & 38.58444 & 69.67407 & 5.911875 & 0.8821111 & 0.9174815 & 2.958333 & 0.061777778\\\\\n",
       "\t Finland                                                    & 53.07424 & 61.09661 & 5.875387 & 0.9220000 & 0.9198475 & 3.439271 & 0.020593220\\\\\n",
       "\t France                                                     & 46.03746 & 61.43220 & 5.175054 & 0.8622881 & 0.8675763 & 2.944000 & 0.092796610\\\\\n",
       "\t Germany                                                    & 58.55763 & 57.25153 & 3.794523 & 0.9225254 & 0.8826102 & 3.403000 & 0.009881356\\\\\n",
       "\t Greece                                                     & 61.37490 & 53.82745 & 3.109344 & 0.8532549 & 0.8438627 & 2.556941 & 0.285509804\\\\\n",
       "\t Hungary                                                    & 52.37690 & 57.05138 & 4.027864 & 0.8065862 & 0.8854483 & 1.521448 & 0.437827586\\\\\n",
       "\t Iceland                                                    & 56.56237 & 63.78305 & 4.293476 & 0.9100339 & 0.8351864 & 3.444729 & 0.017000000\\\\\n",
       "\t Ireland                                                    & 50.04655 & 57.19483 & 3.568527 & 0.8415345 & 0.7879655 & 2.565397 & 0.132948276\\\\\n",
       "\t Italy                                                      & 64.16881 & 61.91525 & 4.910360 & 0.8915254 & 0.8100678 & 2.098034 & 0.116389831\\\\\n",
       "\t Japan                                                      & 47.97559 & 53.07322 & 3.577916 & 0.9100000 & 0.7339831 & 2.404305 & 0.135050847\\\\\n",
       "\t Latvia                                                     & 41.14346 & 69.72308 & 6.858101 & 0.8148846 & 0.9408462 & 2.168962 & 0.151807692\\\\\n",
       "\t Lithuania                                                  & 39.03778 & 67.64074 & 6.547052 & 0.8902222 & 0.9064815 & 2.433519 & 0.046592593\\\\\n",
       "\t Luxembourg                                                 & 46.25000 & 66.32203 & 4.177285 & 0.9417119 & 0.8446610 & 3.770000 & 0.012000000\\\\\n",
       "\t Malta                                                      & 63.75208 & 48.97962 & 2.067521 & 0.8722075 & 0.7694717 & 2.564585 & 0.369622642\\\\\n",
       "\t Netherlands (the)                                          & 57.42068 & 68.81525 & 5.365836 & 0.9143220 & 0.8713559 & 3.428237 & 0.022338983\\\\\n",
       "\t New Zealand                                                & 53.60644 & 56.39644 & 3.005602 & 0.8647627 & 0.8770000 & 3.642000 & 0.011000000\\\\\n",
       "\t Norway                                                     & 57.58814 & 62.46678 & 4.486368 & 0.9636780 & 0.9285593 & 3.826000 & 0.012220339\\\\\n",
       "\t Poland                                                     & 40.01286 & 57.81071 & 5.773146 & 0.8843571 & 0.9188929 & 2.619000 & 0.079464286\\\\\n",
       "\t Portugal                                                   & 53.29256 & 50.44279 & 3.351676 & 0.8907907 & 0.8865814 & 2.603884 & 0.066604651\\\\\n",
       "\t Romania                                                    & 47.47414 & 50.66448 & 4.510538 & 0.7741379 & 0.8268966 & 1.194345 & 0.479862069\\\\\n",
       "\t Slovakia                                                   & 49.91077 & 59.22769 & 6.180422 & 0.7824615 & 0.8898846 & 1.790615 & 0.256500000\\\\\n",
       "\t Slovenia                                                   & 51.29964 & 55.18143 & 5.983035 & 0.9056071 & 0.8922143 & 1.565429 & 0.168464286\\\\\n",
       "\t Sweden                                                     & 62.70271 & 58.95186 & 4.034581 & 0.9444407 & 0.9228305 & 3.836000 & 0.004000000\\\\\n",
       "\t Switzerland                                                & 50.55254 & 70.00000 & 5.991083 & 0.9019661 & 0.8397627 & 3.118864 & 0.012000000\\\\\n",
       "\t United Kingdom of Great Britain and Northern Ireland (the) & 51.89864 & 58.02237 & 3.061182 & 0.8223220 & 0.8187458 & 3.120339 & 0.027796610\\\\\n",
       "\t United States of America (the)                             & 59.10780 & 48.61695 & 2.095840 & 0.7310678 & 0.8050000 & 2.781661 & 0.035254237\\\\\n",
       "\\end{tabular}\n"
      ],
      "text/markdown": [
       "\n",
       "A tibble: 35 × 8\n",
       "\n",
       "| country &lt;chr&gt; | avg_voter_turnout &lt;dbl&gt; | avg_elec_comp &lt;dbl&gt; | avg_num_party &lt;dbl&gt; | avg_index_ega &lt;dbl&gt; | avg_index_woman &lt;dbl&gt; | avg_index_legis &lt;dbl&gt; | avg_index_exe &lt;dbl&gt; |\n",
       "|---|---|---|---|---|---|---|---|\n",
       "| Australia                                                  | 58.09051 | 57.47119 | 3.078265 | 0.8575763 | 0.8325085 | 3.074763 | 0.046745763 |\n",
       "| Austria                                                    | 61.09593 | 58.54407 | 3.167171 | 0.8881864 | 0.8454407 | 2.830034 | 0.068677966 |\n",
       "| Belgium                                                    | 60.26864 | 68.20339 | 7.853640 | 0.9311186 | 0.8678475 | 3.170831 | 0.020016949 |\n",
       "| Bulgaria                                                   | 53.35724 | 54.97000 | 4.442549 | 0.7773103 | 0.9119310 | 1.869793 | 0.248793103 |\n",
       "| Canada                                                     | 44.63186 | 58.11695 | 3.312809 | 0.8449153 | 0.8678814 | 2.924237 | 0.036186441 |\n",
       "| Croatia                                                    | 54.46421 | 51.51158 | 5.927319 | 0.8070526 | 0.9116842 | 1.865526 | 0.279368421 |\n",
       "| Cyprus                                                     | 46.20209 | 63.28744 | 3.681789 | 0.8071163 | 0.7395581 | 2.507535 | 0.184372093 |\n",
       "| Czechia                                                    | 53.00615 | 65.46923 | 5.817482 | 0.9106923 | 0.9141538 | 2.699385 | 0.333192308 |\n",
       "| Denmark                                                    | 62.96000 | 65.84237 | 5.091167 | 0.9608475 | 0.9485932 | 3.851932 | 0.004000000 |\n",
       "| Estonia                                                    | 38.58444 | 69.67407 | 5.911875 | 0.8821111 | 0.9174815 | 2.958333 | 0.061777778 |\n",
       "| Finland                                                    | 53.07424 | 61.09661 | 5.875387 | 0.9220000 | 0.9198475 | 3.439271 | 0.020593220 |\n",
       "| France                                                     | 46.03746 | 61.43220 | 5.175054 | 0.8622881 | 0.8675763 | 2.944000 | 0.092796610 |\n",
       "| Germany                                                    | 58.55763 | 57.25153 | 3.794523 | 0.9225254 | 0.8826102 | 3.403000 | 0.009881356 |\n",
       "| Greece                                                     | 61.37490 | 53.82745 | 3.109344 | 0.8532549 | 0.8438627 | 2.556941 | 0.285509804 |\n",
       "| Hungary                                                    | 52.37690 | 57.05138 | 4.027864 | 0.8065862 | 0.8854483 | 1.521448 | 0.437827586 |\n",
       "| Iceland                                                    | 56.56237 | 63.78305 | 4.293476 | 0.9100339 | 0.8351864 | 3.444729 | 0.017000000 |\n",
       "| Ireland                                                    | 50.04655 | 57.19483 | 3.568527 | 0.8415345 | 0.7879655 | 2.565397 | 0.132948276 |\n",
       "| Italy                                                      | 64.16881 | 61.91525 | 4.910360 | 0.8915254 | 0.8100678 | 2.098034 | 0.116389831 |\n",
       "| Japan                                                      | 47.97559 | 53.07322 | 3.577916 | 0.9100000 | 0.7339831 | 2.404305 | 0.135050847 |\n",
       "| Latvia                                                     | 41.14346 | 69.72308 | 6.858101 | 0.8148846 | 0.9408462 | 2.168962 | 0.151807692 |\n",
       "| Lithuania                                                  | 39.03778 | 67.64074 | 6.547052 | 0.8902222 | 0.9064815 | 2.433519 | 0.046592593 |\n",
       "| Luxembourg                                                 | 46.25000 | 66.32203 | 4.177285 | 0.9417119 | 0.8446610 | 3.770000 | 0.012000000 |\n",
       "| Malta                                                      | 63.75208 | 48.97962 | 2.067521 | 0.8722075 | 0.7694717 | 2.564585 | 0.369622642 |\n",
       "| Netherlands (the)                                          | 57.42068 | 68.81525 | 5.365836 | 0.9143220 | 0.8713559 | 3.428237 | 0.022338983 |\n",
       "| New Zealand                                                | 53.60644 | 56.39644 | 3.005602 | 0.8647627 | 0.8770000 | 3.642000 | 0.011000000 |\n",
       "| Norway                                                     | 57.58814 | 62.46678 | 4.486368 | 0.9636780 | 0.9285593 | 3.826000 | 0.012220339 |\n",
       "| Poland                                                     | 40.01286 | 57.81071 | 5.773146 | 0.8843571 | 0.9188929 | 2.619000 | 0.079464286 |\n",
       "| Portugal                                                   | 53.29256 | 50.44279 | 3.351676 | 0.8907907 | 0.8865814 | 2.603884 | 0.066604651 |\n",
       "| Romania                                                    | 47.47414 | 50.66448 | 4.510538 | 0.7741379 | 0.8268966 | 1.194345 | 0.479862069 |\n",
       "| Slovakia                                                   | 49.91077 | 59.22769 | 6.180422 | 0.7824615 | 0.8898846 | 1.790615 | 0.256500000 |\n",
       "| Slovenia                                                   | 51.29964 | 55.18143 | 5.983035 | 0.9056071 | 0.8922143 | 1.565429 | 0.168464286 |\n",
       "| Sweden                                                     | 62.70271 | 58.95186 | 4.034581 | 0.9444407 | 0.9228305 | 3.836000 | 0.004000000 |\n",
       "| Switzerland                                                | 50.55254 | 70.00000 | 5.991083 | 0.9019661 | 0.8397627 | 3.118864 | 0.012000000 |\n",
       "| United Kingdom of Great Britain and Northern Ireland (the) | 51.89864 | 58.02237 | 3.061182 | 0.8223220 | 0.8187458 | 3.120339 | 0.027796610 |\n",
       "| United States of America (the)                             | 59.10780 | 48.61695 | 2.095840 | 0.7310678 | 0.8050000 | 2.781661 | 0.035254237 |\n",
       "\n"
      ],
      "text/plain": [
       "   country                                                    avg_voter_turnout\n",
       "1  Australia                                                  58.09051         \n",
       "2  Austria                                                    61.09593         \n",
       "3  Belgium                                                    60.26864         \n",
       "4  Bulgaria                                                   53.35724         \n",
       "5  Canada                                                     44.63186         \n",
       "6  Croatia                                                    54.46421         \n",
       "7  Cyprus                                                     46.20209         \n",
       "8  Czechia                                                    53.00615         \n",
       "9  Denmark                                                    62.96000         \n",
       "10 Estonia                                                    38.58444         \n",
       "11 Finland                                                    53.07424         \n",
       "12 France                                                     46.03746         \n",
       "13 Germany                                                    58.55763         \n",
       "14 Greece                                                     61.37490         \n",
       "15 Hungary                                                    52.37690         \n",
       "16 Iceland                                                    56.56237         \n",
       "17 Ireland                                                    50.04655         \n",
       "18 Italy                                                      64.16881         \n",
       "19 Japan                                                      47.97559         \n",
       "20 Latvia                                                     41.14346         \n",
       "21 Lithuania                                                  39.03778         \n",
       "22 Luxembourg                                                 46.25000         \n",
       "23 Malta                                                      63.75208         \n",
       "24 Netherlands (the)                                          57.42068         \n",
       "25 New Zealand                                                53.60644         \n",
       "26 Norway                                                     57.58814         \n",
       "27 Poland                                                     40.01286         \n",
       "28 Portugal                                                   53.29256         \n",
       "29 Romania                                                    47.47414         \n",
       "30 Slovakia                                                   49.91077         \n",
       "31 Slovenia                                                   51.29964         \n",
       "32 Sweden                                                     62.70271         \n",
       "33 Switzerland                                                50.55254         \n",
       "34 United Kingdom of Great Britain and Northern Ireland (the) 51.89864         \n",
       "35 United States of America (the)                             59.10780         \n",
       "   avg_elec_comp avg_num_party avg_index_ega avg_index_woman avg_index_legis\n",
       "1  57.47119      3.078265      0.8575763     0.8325085       3.074763       \n",
       "2  58.54407      3.167171      0.8881864     0.8454407       2.830034       \n",
       "3  68.20339      7.853640      0.9311186     0.8678475       3.170831       \n",
       "4  54.97000      4.442549      0.7773103     0.9119310       1.869793       \n",
       "5  58.11695      3.312809      0.8449153     0.8678814       2.924237       \n",
       "6  51.51158      5.927319      0.8070526     0.9116842       1.865526       \n",
       "7  63.28744      3.681789      0.8071163     0.7395581       2.507535       \n",
       "8  65.46923      5.817482      0.9106923     0.9141538       2.699385       \n",
       "9  65.84237      5.091167      0.9608475     0.9485932       3.851932       \n",
       "10 69.67407      5.911875      0.8821111     0.9174815       2.958333       \n",
       "11 61.09661      5.875387      0.9220000     0.9198475       3.439271       \n",
       "12 61.43220      5.175054      0.8622881     0.8675763       2.944000       \n",
       "13 57.25153      3.794523      0.9225254     0.8826102       3.403000       \n",
       "14 53.82745      3.109344      0.8532549     0.8438627       2.556941       \n",
       "15 57.05138      4.027864      0.8065862     0.8854483       1.521448       \n",
       "16 63.78305      4.293476      0.9100339     0.8351864       3.444729       \n",
       "17 57.19483      3.568527      0.8415345     0.7879655       2.565397       \n",
       "18 61.91525      4.910360      0.8915254     0.8100678       2.098034       \n",
       "19 53.07322      3.577916      0.9100000     0.7339831       2.404305       \n",
       "20 69.72308      6.858101      0.8148846     0.9408462       2.168962       \n",
       "21 67.64074      6.547052      0.8902222     0.9064815       2.433519       \n",
       "22 66.32203      4.177285      0.9417119     0.8446610       3.770000       \n",
       "23 48.97962      2.067521      0.8722075     0.7694717       2.564585       \n",
       "24 68.81525      5.365836      0.9143220     0.8713559       3.428237       \n",
       "25 56.39644      3.005602      0.8647627     0.8770000       3.642000       \n",
       "26 62.46678      4.486368      0.9636780     0.9285593       3.826000       \n",
       "27 57.81071      5.773146      0.8843571     0.9188929       2.619000       \n",
       "28 50.44279      3.351676      0.8907907     0.8865814       2.603884       \n",
       "29 50.66448      4.510538      0.7741379     0.8268966       1.194345       \n",
       "30 59.22769      6.180422      0.7824615     0.8898846       1.790615       \n",
       "31 55.18143      5.983035      0.9056071     0.8922143       1.565429       \n",
       "32 58.95186      4.034581      0.9444407     0.9228305       3.836000       \n",
       "33 70.00000      5.991083      0.9019661     0.8397627       3.118864       \n",
       "34 58.02237      3.061182      0.8223220     0.8187458       3.120339       \n",
       "35 48.61695      2.095840      0.7310678     0.8050000       2.781661       \n",
       "   avg_index_exe\n",
       "1  0.046745763  \n",
       "2  0.068677966  \n",
       "3  0.020016949  \n",
       "4  0.248793103  \n",
       "5  0.036186441  \n",
       "6  0.279368421  \n",
       "7  0.184372093  \n",
       "8  0.333192308  \n",
       "9  0.004000000  \n",
       "10 0.061777778  \n",
       "11 0.020593220  \n",
       "12 0.092796610  \n",
       "13 0.009881356  \n",
       "14 0.285509804  \n",
       "15 0.437827586  \n",
       "16 0.017000000  \n",
       "17 0.132948276  \n",
       "18 0.116389831  \n",
       "19 0.135050847  \n",
       "20 0.151807692  \n",
       "21 0.046592593  \n",
       "22 0.012000000  \n",
       "23 0.369622642  \n",
       "24 0.022338983  \n",
       "25 0.011000000  \n",
       "26 0.012220339  \n",
       "27 0.079464286  \n",
       "28 0.066604651  \n",
       "29 0.479862069  \n",
       "30 0.256500000  \n",
       "31 0.168464286  \n",
       "32 0.004000000  \n",
       "33 0.012000000  \n",
       "34 0.027796610  \n",
       "35 0.035254237  "
      ]
     },
     "metadata": {},
     "output_type": "display_data"
    }
   ],
   "source": [
    "QOG_by_country <- QOG_cleaned %>% select(-gov_type, -prop_rep) %>%\n",
    "                    group_by(country) %>%\n",
    "                    summarize(avg_voter_turnout = mean(voter_turnout),\n",
    "                              avg_elec_comp = mean(elec_comp),\n",
    "                              avg_num_party = mean(num_party),\n",
    "                              avg_index_ega = mean(index_ega),\n",
    "                              avg_index_woman = mean(index_woman),\n",
    "                              avg_index_legis = mean(index_legis),\n",
    "                              avg_index_exe = mean(index_exe))\n",
    "QOG_by_country"
   ]
  },
  {
   "cell_type": "markdown",
   "id": "11eba075",
   "metadata": {},
   "source": [
    "The response variable, the percentage of voter turnout, mostly ranges from 40% to 65% when categorized by country. The explanatory variables are percentage of votes that go to small parties and of multipartyism by the number of influential parties."
   ]
  },
  {
   "cell_type": "markdown",
   "id": "41ab0c76",
   "metadata": {},
   "source": [
    "**Table 2: Summary of the Data by Government Type**"
   ]
  },
  {
   "cell_type": "code",
   "execution_count": 8,
   "id": "8e702ed3",
   "metadata": {},
   "outputs": [
    {
     "data": {
      "text/html": [
       "<table class=\"dataframe\">\n",
       "<caption>A tibble: 2 × 8</caption>\n",
       "<thead>\n",
       "\t<tr><th scope=col>gov_type</th><th scope=col>avg_voter_turnout</th><th scope=col>avg_elec_comp</th><th scope=col>avg_num_party</th><th scope=col>avg_index_ega</th><th scope=col>avg_index_woman</th><th scope=col>avg_index_legis</th><th scope=col>avg_index_exe</th></tr>\n",
       "\t<tr><th scope=col>&lt;fct&gt;</th><th scope=col>&lt;dbl&gt;</th><th scope=col>&lt;dbl&gt;</th><th scope=col>&lt;dbl&gt;</th><th scope=col>&lt;dbl&gt;</th><th scope=col>&lt;dbl&gt;</th><th scope=col>&lt;dbl&gt;</th><th scope=col>&lt;dbl&gt;</th></tr>\n",
       "</thead>\n",
       "<tbody>\n",
       "\t<tr><td>bicaremel</td><td>55.83911</td><td>59.77002</td><td>4.587733</td><td>0.8791452</td><td>0.8701429</td><td>2.740141</td><td>0.09477049</td></tr>\n",
       "\t<tr><td>unitary  </td><td>53.25492</td><td>59.76764</td><td>4.305824</td><td>0.8779911</td><td>0.8539587</td><td>2.972946</td><td>0.09870793</td></tr>\n",
       "</tbody>\n",
       "</table>\n"
      ],
      "text/latex": [
       "A tibble: 2 × 8\n",
       "\\begin{tabular}{llllllll}\n",
       " gov\\_type & avg\\_voter\\_turnout & avg\\_elec\\_comp & avg\\_num\\_party & avg\\_index\\_ega & avg\\_index\\_woman & avg\\_index\\_legis & avg\\_index\\_exe\\\\\n",
       " <fct> & <dbl> & <dbl> & <dbl> & <dbl> & <dbl> & <dbl> & <dbl>\\\\\n",
       "\\hline\n",
       "\t bicaremel & 55.83911 & 59.77002 & 4.587733 & 0.8791452 & 0.8701429 & 2.740141 & 0.09477049\\\\\n",
       "\t unitary   & 53.25492 & 59.76764 & 4.305824 & 0.8779911 & 0.8539587 & 2.972946 & 0.09870793\\\\\n",
       "\\end{tabular}\n"
      ],
      "text/markdown": [
       "\n",
       "A tibble: 2 × 8\n",
       "\n",
       "| gov_type &lt;fct&gt; | avg_voter_turnout &lt;dbl&gt; | avg_elec_comp &lt;dbl&gt; | avg_num_party &lt;dbl&gt; | avg_index_ega &lt;dbl&gt; | avg_index_woman &lt;dbl&gt; | avg_index_legis &lt;dbl&gt; | avg_index_exe &lt;dbl&gt; |\n",
       "|---|---|---|---|---|---|---|---|\n",
       "| bicaremel | 55.83911 | 59.77002 | 4.587733 | 0.8791452 | 0.8701429 | 2.740141 | 0.09477049 |\n",
       "| unitary   | 53.25492 | 59.76764 | 4.305824 | 0.8779911 | 0.8539587 | 2.972946 | 0.09870793 |\n",
       "\n"
      ],
      "text/plain": [
       "  gov_type  avg_voter_turnout avg_elec_comp avg_num_party avg_index_ega\n",
       "1 bicaremel 55.83911          59.77002      4.587733      0.8791452    \n",
       "2 unitary   53.25492          59.76764      4.305824      0.8779911    \n",
       "  avg_index_woman avg_index_legis avg_index_exe\n",
       "1 0.8701429       2.740141        0.09477049   \n",
       "2 0.8539587       2.972946        0.09870793   "
      ]
     },
     "metadata": {},
     "output_type": "display_data"
    }
   ],
   "source": [
    "QOG_by_gov_type <- QOG_cleaned %>% select(-country, -prop_rep) %>%\n",
    "                    group_by(gov_type) %>%\n",
    "                    summarize(avg_voter_turnout = mean(voter_turnout),\n",
    "                              avg_elec_comp = mean(elec_comp),\n",
    "                              avg_num_party = mean(num_party),\n",
    "                              avg_index_ega = mean(index_ega),\n",
    "                              avg_index_woman = mean(index_woman),\n",
    "                              avg_index_legis = mean(index_legis),\n",
    "                              avg_index_exe = mean(index_exe))\n",
    "QOG_by_gov_type"
   ]
  },
  {
   "cell_type": "markdown",
   "id": "db2acfcb",
   "metadata": {},
   "source": [
    "The mean voter turnout for the unitary government type is lower than that for bicaremelism while the percentage of votes that go to small parties and of multipartyism by the number of influential parties are basically the same for both types."
   ]
  },
  {
   "cell_type": "markdown",
   "id": "d3b19bf1",
   "metadata": {},
   "source": [
    "**Table 3: Summary of the Data by whether there is proportional representation or not**"
   ]
  },
  {
   "cell_type": "code",
   "execution_count": 9,
   "id": "60fe5f55",
   "metadata": {},
   "outputs": [
    {
     "data": {
      "text/html": [
       "<table class=\"dataframe\">\n",
       "<caption>A tibble: 2 × 8</caption>\n",
       "<thead>\n",
       "\t<tr><th scope=col>prop_rep</th><th scope=col>avg_voter_turnout</th><th scope=col>avg_elec_comp</th><th scope=col>avg_num_party</th><th scope=col>avg_index_ega</th><th scope=col>avg_index_woman</th><th scope=col>avg_index_legis</th><th scope=col>avg_index_exe</th></tr>\n",
       "\t<tr><th scope=col>&lt;fct&gt;</th><th scope=col>&lt;dbl&gt;</th><th scope=col>&lt;dbl&gt;</th><th scope=col>&lt;dbl&gt;</th><th scope=col>&lt;dbl&gt;</th><th scope=col>&lt;dbl&gt;</th><th scope=col>&lt;dbl&gt;</th><th scope=col>&lt;dbl&gt;</th></tr>\n",
       "</thead>\n",
       "<tbody>\n",
       "\t<tr><td>no </td><td>50.66212</td><td>56.78629</td><td>3.561606</td><td>0.8427238</td><td>0.8278667</td><td>2.909043</td><td>0.05741667</td></tr>\n",
       "\t<tr><td>yes</td><td>55.01874</td><td>60.77583</td><td>4.654132</td><td>0.8903041</td><td>0.8683347</td><td>2.914564</td><td>0.11130732</td></tr>\n",
       "</tbody>\n",
       "</table>\n"
      ],
      "text/latex": [
       "A tibble: 2 × 8\n",
       "\\begin{tabular}{llllllll}\n",
       " prop\\_rep & avg\\_voter\\_turnout & avg\\_elec\\_comp & avg\\_num\\_party & avg\\_index\\_ega & avg\\_index\\_woman & avg\\_index\\_legis & avg\\_index\\_exe\\\\\n",
       " <fct> & <dbl> & <dbl> & <dbl> & <dbl> & <dbl> & <dbl> & <dbl>\\\\\n",
       "\\hline\n",
       "\t no  & 50.66212 & 56.78629 & 3.561606 & 0.8427238 & 0.8278667 & 2.909043 & 0.05741667\\\\\n",
       "\t yes & 55.01874 & 60.77583 & 4.654132 & 0.8903041 & 0.8683347 & 2.914564 & 0.11130732\\\\\n",
       "\\end{tabular}\n"
      ],
      "text/markdown": [
       "\n",
       "A tibble: 2 × 8\n",
       "\n",
       "| prop_rep &lt;fct&gt; | avg_voter_turnout &lt;dbl&gt; | avg_elec_comp &lt;dbl&gt; | avg_num_party &lt;dbl&gt; | avg_index_ega &lt;dbl&gt; | avg_index_woman &lt;dbl&gt; | avg_index_legis &lt;dbl&gt; | avg_index_exe &lt;dbl&gt; |\n",
       "|---|---|---|---|---|---|---|---|\n",
       "| no  | 50.66212 | 56.78629 | 3.561606 | 0.8427238 | 0.8278667 | 2.909043 | 0.05741667 |\n",
       "| yes | 55.01874 | 60.77583 | 4.654132 | 0.8903041 | 0.8683347 | 2.914564 | 0.11130732 |\n",
       "\n"
      ],
      "text/plain": [
       "  prop_rep avg_voter_turnout avg_elec_comp avg_num_party avg_index_ega\n",
       "1 no       50.66212          56.78629      3.561606      0.8427238    \n",
       "2 yes      55.01874          60.77583      4.654132      0.8903041    \n",
       "  avg_index_woman avg_index_legis avg_index_exe\n",
       "1 0.8278667       2.909043        0.05741667   \n",
       "2 0.8683347       2.914564        0.11130732   "
      ]
     },
     "metadata": {},
     "output_type": "display_data"
    }
   ],
   "source": [
    "QOG_by_prop_rep <- QOG_cleaned %>% select(-country, -gov_type) %>%\n",
    "                    group_by(prop_rep) %>%\n",
    "                    summarize(avg_voter_turnout = mean(voter_turnout),\n",
    "                              avg_elec_comp = mean(elec_comp),\n",
    "                              avg_num_party = mean(num_party),\n",
    "                              avg_index_ega = mean(index_ega),\n",
    "                              avg_index_woman = mean(index_woman),\n",
    "                              avg_index_legis = mean(index_legis),\n",
    "                              avg_index_exe = mean(index_exe))\n",
    "QOG_by_prop_rep"
   ]
  },
  {
   "cell_type": "markdown",
   "id": "e6894fc0",
   "metadata": {},
   "source": [
    "For a country with proportional representation systems, the average turn out is 5% higher than the country without proportional representation systems. Consistently, the percentage of votes that go to small parties and of multipartyism by the number of influential parties for a country with proportional representation systems are respectively 4% higher and 1% higher than the countries without ones."
   ]
  },
  {
   "cell_type": "markdown",
   "id": "fd60a0e7",
   "metadata": {},
   "source": [
    "### 2.4 Data Visualizations"
   ]
  },
  {
   "cell_type": "code",
   "execution_count": 10,
   "id": "89d7f98b",
   "metadata": {},
   "outputs": [
    {
     "data": {
      "image/png": "[encoded data removed]",
      "text/plain": [
       "plot without title"
      ]
     },
     "metadata": {
      "image/png": {
       "height": 600,
       "width": 600
      }
     },
     "output_type": "display_data"
    }
   ],
   "source": [
    "gov_type_boxplots <- QOG_cleaned %>%\n",
    "  ggplot() +\n",
    "  geom_boxplot(aes(gov_type, voter_turnout, fill = gov_type)) +\n",
    "  theme(\n",
    "    text = element_text(size = 12),\n",
    "    plot.title = element_text(face = \"bold\"),\n",
    "    axis.title = element_text(face = \"bold\")\n",
    "  ) +\n",
    "  ggtitle(\"Figure 1: The distribution of voter turnout \n",
    "  by the type of government\") +\n",
    "  theme(text = element_text(size = 20)) +\n",
    "  xlab(\"Government Type\") +\n",
    "  ylab(\"Voter Turnout\") +\n",
    "  stat_summary(aes(gov_type, voter_turnout, fill = gov_type),\n",
    "    fun = mean, colour = \"yellow\", geom = \"point\",\n",
    "    shape = 18, size = 5\n",
    "  )\n",
    "\n",
    "options(repr.plot.width = 10, repr.plot.height = 10)\n",
    "\n",
    "gov_type_boxplots"
   ]
  },
  {
   "cell_type": "markdown",
   "id": "f0625512",
   "metadata": {},
   "source": [
    "The mean voter turnout for the unitary government type is 5% lower than that for bicaremelism, however, the variance is larger for unitary than that for bicaremelism. We can also see that there are more outliers for the unitary government type."
   ]
  },
  {
   "cell_type": "code",
   "execution_count": 11,
   "id": "0b44f248",
   "metadata": {},
   "outputs": [
    {
     "data": {
      "image/png": "[encoded data removed]",
      "text/plain": [
       "plot without title"
      ]
     },
     "metadata": {
      "image/png": {
       "height": 600,
       "width": 600
      }
     },
     "output_type": "display_data"
    }
   ],
   "source": [
    "prop_rep_boxplots <- QOG_cleaned %>%\n",
    "    ggplot() +\n",
    "    geom_boxplot(aes(prop_rep, voter_turnout, fill = prop_rep)) +\n",
    "    theme(\n",
    "      text = element_text(size = 11),\n",
    "      plot.title = element_text(face = \"bold\"),\n",
    "      axis.title = element_text(face = \"bold\")\n",
    "    ) +\n",
    "    ggtitle(\"Figure 2: The distribution of voter turnout \n",
    "by proportional representation\") +\n",
    "    theme(text = element_text(size = 20)) +\n",
    "    xlab(\"Proportional Representation\") +\n",
    "    ylab(\"Voter Turnout\") +\n",
    "    stat_summary(aes(prop_rep, voter_turnout, fill = prop_rep),\n",
    "      fun = mean, colour = \"yellow\", geom = \"point\",\n",
    "      shape = 18, size = 5\n",
    "    )\n",
    "\n",
    "options(repr.plot.width = 10, repr.plot.height = 10)\n",
    "\n",
    "prop_rep_boxplots"
   ]
  },
  {
   "cell_type": "markdown",
   "id": "362a9474",
   "metadata": {},
   "source": [
    "We can see that the mean for yes is 7% higher than the mean for no, with similar variances for both."
   ]
  },
  {
   "cell_type": "code",
   "execution_count": 12,
   "id": "811d6d8c",
   "metadata": {},
   "outputs": [
    {
     "data": {
      "image/png": "[encoded data removed]",
      "text/plain": [
       "plot without title"
      ]
     },
     "metadata": {
      "image/png": {
       "height": 900,
       "width": 900
      }
     },
     "output_type": "display_data"
    }
   ],
   "source": [
    "QOG_cleaned_pairplots <- QOG_cleaned %>%\n",
    "    select(-country, -gov_type, -prop_rep) %>%\n",
    "    ggpairs(progress = FALSE) +\n",
    "    theme(\n",
    "      text = element_text(size = 20),\n",
    "      plot.title = element_text(face = \"bold\"),\n",
    "      axis.title = element_text(face = \"bold\")\n",
    "    ) +\n",
    "    ggtitle(\"Figure 3: The correlation coefficients of \n",
    "voter turnout and the continuous variables\") +\n",
    "    theme(text = element_text(size = 20))\n",
    "\n",
    "options(repr.plot.width = 15, repr.plot.height = 15)\n",
    "\n",
    "QOG_cleaned_pairplots"
   ]
  },
  {
   "cell_type": "markdown",
   "id": "aeb3084e",
   "metadata": {},
   "source": [
    "We can see that the correlation graph displays weak correlations between voter turnout and the different explanatory variables, corresponding to a distracted scatterplot. However, the main reason for this particular correlation graph is that our dataset accounts for voter data from a vast time period and a vast selection of countries with differing political landscapes, government structures, etc."
   ]
  },
  {
   "cell_type": "markdown",
   "id": "854f48f8",
   "metadata": {},
   "source": [
    "## 3. Methodology and Results"
   ]
  },
  {
   "cell_type": "markdown",
   "id": "216e4f70",
   "metadata": {},
   "source": [
    "### 3.1 Explaining the Methdology"
   ]
  },
  {
   "cell_type": "markdown",
   "id": "a5546745",
   "metadata": {},
   "source": [
    "We estimate institutionalized competition using Vanhanen (2019)’s method based on the percentage of votes that go to small parties, multipartyism by the number of influential parties, electoral proportionality on a dummy whether proportional representation systems exist, and bicameralism (the presence of two legislatures) using a dummy with 0 for unitary and 1 for bicameral governments. Using the above variables, we will recreate Jackman’s model and test if they continue to be significant in describing voter turnout. However, as we now have access to a larger dataset with measures for more variables we also try to generate a larger model that incorporates this additional data. We avoid variables that are outside Jackman’s investigation of government structure but add variables to test for egalitarianism in the political process, empowerment of women, corruption in the legislature, and corruption in the executive. These additional measures were indexes compiled by third party experts reporting on the country. \n",
    "\n",
    "We will test the null hypothesis that the structure of a country's government doesn't significantly influence voter turnout. We will build a multiple linear regression model with confidence intervals of its coefficients to estimate the effect of the 4 input variables on voter turnout. Furthermore, we will use the $R^{2}$  value in order to evaluate the performance of our linear regression model and test to see if Jackman’s 4 variables continue to be significant. In addition, we will propose an alternative model by using backward selection to select from the 4 variables Jackman used and from the 4 additional variables available in our dataset that relate to the structure of the government. \n",
    "\n",
    "To generate our alternative model for inference testing, we split our available data with 30% for variable selection. Of the remaining 70% of our data, we took another 70% of that and split it to be used as our training data and the rest for our testing. We wanted to maximize how much data we could use for training. As a result 30% of our total cleaned data is used for variable selection, 49% of the total cleaned is used for training and 21% of our total cleaned data is used for testing. To keep the training and testing consistent, both the model based on Jackman’s original research and our new alternative model used the same training and testing datasets. \n",
    "\n",
    "The alternative model was created using backward selection which was recommended for inference models. As the model based on Jackman’s only used 4 variables and as we were only proposing 4 additional variables to potentially add to it, we did not find it necessary to use more rigorous methods such as LASSO or Ridge as part of our variable selection. \n"
   ]
  },
  {
   "cell_type": "markdown",
   "id": "732df0f0",
   "metadata": {},
   "source": [
    "### 3.2 Splitting the Data"
   ]
  },
  {
   "cell_type": "code",
   "execution_count": 13,
   "id": "d211384c",
   "metadata": {},
   "outputs": [],
   "source": [
    "QOG_cleaned$ID <- 1:nrow(QOG_cleaned)\n",
    "\n",
    "selection_QOG <- sample_n(QOG_cleaned, size = nrow(QOG_cleaned) * 0.3,\n",
    "                        replace = FALSE)\n",
    "model_QOG <- anti_join(QOG_cleaned, \n",
    "                        selection_QOG,\n",
    "                        by = \"ID\")\n",
    "training_QOG <- sample_n(model_QOG, size = nrow(model_QOG) * 0.7,\n",
    "                        replace = FALSE)\n",
    "testing_QOG <- anti_join(model_QOG, \n",
    "                        training_QOG,\n",
    "                        by = \"ID\")\n",
    "\n",
    "selection_QOG <- selection_QOG %>% select(-\"ID\")\n",
    "training_QOG <- training_QOG %>% select(-\"ID\")\n",
    "testing_QOG <- testing_QOG %>% select(-\"ID\")"
   ]
  },
  {
   "cell_type": "code",
   "execution_count": 14,
   "id": "a9eeddc3",
   "metadata": {},
   "outputs": [
    {
     "data": {
      "text/html": [
       "<table class=\"dataframe\">\n",
       "<caption>A tibble: 6 × 10</caption>\n",
       "<thead>\n",
       "\t<tr><th scope=col>country</th><th scope=col>voter_turnout</th><th scope=col>elec_comp</th><th scope=col>gov_type</th><th scope=col>prop_rep</th><th scope=col>num_party</th><th scope=col>index_ega</th><th scope=col>index_woman</th><th scope=col>index_legis</th><th scope=col>index_exe</th></tr>\n",
       "\t<tr><th scope=col>&lt;chr&gt;</th><th scope=col>&lt;dbl&gt;</th><th scope=col>&lt;dbl&gt;</th><th scope=col>&lt;fct&gt;</th><th scope=col>&lt;fct&gt;</th><th scope=col>&lt;dbl&gt;</th><th scope=col>&lt;dbl&gt;</th><th scope=col>&lt;dbl&gt;</th><th scope=col>&lt;dbl&gt;</th><th scope=col>&lt;dbl&gt;</th></tr>\n",
       "</thead>\n",
       "<tbody>\n",
       "\t<tr><td>Denmark                                                   </td><td>65.8</td><td>63.4</td><td>unitary  </td><td>yes</td><td>5.252846</td><td>0.967</td><td>0.954</td><td>3.943</td><td>0.004</td></tr>\n",
       "\t<tr><td>United States of America (the)                            </td><td>56.8</td><td>49.3</td><td>bicaremel</td><td>no </td><td>2.059830</td><td>0.769</td><td>0.818</td><td>2.870</td><td>0.039</td></tr>\n",
       "\t<tr><td>Australia                                                 </td><td>59.9</td><td>55.1</td><td>bicaremel</td><td>no </td><td>2.891260</td><td>0.884</td><td>0.897</td><td>3.071</td><td>0.034</td></tr>\n",
       "\t<tr><td>Italy                                                     </td><td>62.0</td><td>56.2</td><td>unitary  </td><td>yes</td><td>3.803221</td><td>0.921</td><td>0.927</td><td>2.038</td><td>0.153</td></tr>\n",
       "\t<tr><td>Malta                                                     </td><td>70.0</td><td>48.2</td><td>unitary  </td><td>yes</td><td>2.044053</td><td>0.870</td><td>0.807</td><td>2.617</td><td>0.316</td></tr>\n",
       "\t<tr><td>United Kingdom of Great Britain and Northern Ireland (the)</td><td>52.2</td><td>60.7</td><td>unitary  </td><td>no </td><td>3.155141</td><td>0.833</td><td>0.792</td><td>3.129</td><td>0.014</td></tr>\n",
       "</tbody>\n",
       "</table>\n"
      ],
      "text/latex": [
       "A tibble: 6 × 10\n",
       "\\begin{tabular}{llllllllll}\n",
       " country & voter\\_turnout & elec\\_comp & gov\\_type & prop\\_rep & num\\_party & index\\_ega & index\\_woman & index\\_legis & index\\_exe\\\\\n",
       " <chr> & <dbl> & <dbl> & <fct> & <fct> & <dbl> & <dbl> & <dbl> & <dbl> & <dbl>\\\\\n",
       "\\hline\n",
       "\t Denmark                                                    & 65.8 & 63.4 & unitary   & yes & 5.252846 & 0.967 & 0.954 & 3.943 & 0.004\\\\\n",
       "\t United States of America (the)                             & 56.8 & 49.3 & bicaremel & no  & 2.059830 & 0.769 & 0.818 & 2.870 & 0.039\\\\\n",
       "\t Australia                                                  & 59.9 & 55.1 & bicaremel & no  & 2.891260 & 0.884 & 0.897 & 3.071 & 0.034\\\\\n",
       "\t Italy                                                      & 62.0 & 56.2 & unitary   & yes & 3.803221 & 0.921 & 0.927 & 2.038 & 0.153\\\\\n",
       "\t Malta                                                      & 70.0 & 48.2 & unitary   & yes & 2.044053 & 0.870 & 0.807 & 2.617 & 0.316\\\\\n",
       "\t United Kingdom of Great Britain and Northern Ireland (the) & 52.2 & 60.7 & unitary   & no  & 3.155141 & 0.833 & 0.792 & 3.129 & 0.014\\\\\n",
       "\\end{tabular}\n"
      ],
      "text/markdown": [
       "\n",
       "A tibble: 6 × 10\n",
       "\n",
       "| country &lt;chr&gt; | voter_turnout &lt;dbl&gt; | elec_comp &lt;dbl&gt; | gov_type &lt;fct&gt; | prop_rep &lt;fct&gt; | num_party &lt;dbl&gt; | index_ega &lt;dbl&gt; | index_woman &lt;dbl&gt; | index_legis &lt;dbl&gt; | index_exe &lt;dbl&gt; |\n",
       "|---|---|---|---|---|---|---|---|---|---|\n",
       "| Denmark                                                    | 65.8 | 63.4 | unitary   | yes | 5.252846 | 0.967 | 0.954 | 3.943 | 0.004 |\n",
       "| United States of America (the)                             | 56.8 | 49.3 | bicaremel | no  | 2.059830 | 0.769 | 0.818 | 2.870 | 0.039 |\n",
       "| Australia                                                  | 59.9 | 55.1 | bicaremel | no  | 2.891260 | 0.884 | 0.897 | 3.071 | 0.034 |\n",
       "| Italy                                                      | 62.0 | 56.2 | unitary   | yes | 3.803221 | 0.921 | 0.927 | 2.038 | 0.153 |\n",
       "| Malta                                                      | 70.0 | 48.2 | unitary   | yes | 2.044053 | 0.870 | 0.807 | 2.617 | 0.316 |\n",
       "| United Kingdom of Great Britain and Northern Ireland (the) | 52.2 | 60.7 | unitary   | no  | 3.155141 | 0.833 | 0.792 | 3.129 | 0.014 |\n",
       "\n"
      ],
      "text/plain": [
       "  country                                                    voter_turnout\n",
       "1 Denmark                                                    65.8         \n",
       "2 United States of America (the)                             56.8         \n",
       "3 Australia                                                  59.9         \n",
       "4 Italy                                                      62.0         \n",
       "5 Malta                                                      70.0         \n",
       "6 United Kingdom of Great Britain and Northern Ireland (the) 52.2         \n",
       "  elec_comp gov_type  prop_rep num_party index_ega index_woman index_legis\n",
       "1 63.4      unitary   yes      5.252846  0.967     0.954       3.943      \n",
       "2 49.3      bicaremel no       2.059830  0.769     0.818       2.870      \n",
       "3 55.1      bicaremel no       2.891260  0.884     0.897       3.071      \n",
       "4 56.2      unitary   yes      3.803221  0.921     0.927       2.038      \n",
       "5 48.2      unitary   yes      2.044053  0.870     0.807       2.617      \n",
       "6 60.7      unitary   no       3.155141  0.833     0.792       3.129      \n",
       "  index_exe\n",
       "1 0.004    \n",
       "2 0.039    \n",
       "3 0.034    \n",
       "4 0.153    \n",
       "5 0.316    \n",
       "6 0.014    "
      ]
     },
     "metadata": {},
     "output_type": "display_data"
    }
   ],
   "source": [
    "head(training_QOG)"
   ]
  },
  {
   "cell_type": "markdown",
   "id": "882319b5",
   "metadata": {},
   "source": [
    "### 3.3 Model Construction (Jackman)"
   ]
  },
  {
   "cell_type": "code",
   "execution_count": 15,
   "id": "c6a2c062",
   "metadata": {
    "scrolled": false
   },
   "outputs": [
    {
     "data": {
      "text/plain": [
       "\n",
       "Call:\n",
       "lm(formula = voter_turnout ~ elec_comp + gov_type + prop_rep + \n",
       "    num_party, data = training_QOG)\n",
       "\n",
       "Residuals:\n",
       "    Min      1Q  Median      3Q     Max \n",
       "-31.677  -5.240   0.476   5.519  20.238 \n",
       "\n",
       "Coefficients:\n",
       "                Estimate Std. Error t value Pr(>|t|)    \n",
       "(Intercept)     57.29657    2.42534  23.624  < 2e-16 ***\n",
       "elec_comp       -0.01757    0.04759  -0.369    0.712    \n",
       "gov_typeunitary -4.57004    0.67241  -6.796 2.08e-11 ***\n",
       "prop_repyes      6.81430    0.69875   9.752  < 2e-16 ***\n",
       "num_party       -0.92233    0.21346  -4.321 1.75e-05 ***\n",
       "---\n",
       "Signif. codes:  0 '***' 0.001 '**' 0.01 '*' 0.05 '.' 0.1 ' ' 1\n",
       "\n",
       "Residual standard error: 8.158 on 810 degrees of freedom\n",
       "Multiple R-squared:  0.134,\tAdjusted R-squared:  0.1297 \n",
       "F-statistic: 31.32 on 4 and 810 DF,  p-value: < 2.2e-16\n"
      ]
     },
     "metadata": {},
     "output_type": "display_data"
    }
   ],
   "source": [
    "old_model <- lm(voter_turnout ~ elec_comp + gov_type + prop_rep + num_party, data = training_QOG)\n",
    "summary(old_model)"
   ]
  },
  {
   "cell_type": "code",
   "execution_count": 16,
   "id": "1285c1ff",
   "metadata": {},
   "outputs": [
    {
     "data": {
      "text/html": [
       "<table class=\"dataframe\">\n",
       "<caption>A tibble: 5 × 5</caption>\n",
       "<thead>\n",
       "\t<tr><th scope=col>term</th><th scope=col>estimate</th><th scope=col>std.error</th><th scope=col>statistic</th><th scope=col>p.value</th></tr>\n",
       "\t<tr><th scope=col>&lt;chr&gt;</th><th scope=col>&lt;dbl&gt;</th><th scope=col>&lt;dbl&gt;</th><th scope=col>&lt;dbl&gt;</th><th scope=col>&lt;dbl&gt;</th></tr>\n",
       "</thead>\n",
       "<tbody>\n",
       "\t<tr><td>(Intercept)    </td><td>57.29657208</td><td>2.42533962</td><td>23.6241438</td><td>2.819537e-94</td></tr>\n",
       "\t<tr><td>elec_comp      </td><td>-0.01756735</td><td>0.04759106</td><td>-0.3691313</td><td>7.121264e-01</td></tr>\n",
       "\t<tr><td>gov_typeunitary</td><td>-4.57003521</td><td>0.67241304</td><td>-6.7964702</td><td>2.078520e-11</td></tr>\n",
       "\t<tr><td>prop_repyes    </td><td> 6.81429641</td><td>0.69874845</td><td> 9.7521453</td><td>2.545960e-21</td></tr>\n",
       "\t<tr><td>num_party      </td><td>-0.92232670</td><td>0.21346353</td><td>-4.3207695</td><td>1.748069e-05</td></tr>\n",
       "</tbody>\n",
       "</table>\n"
      ],
      "text/latex": [
       "A tibble: 5 × 5\n",
       "\\begin{tabular}{lllll}\n",
       " term & estimate & std.error & statistic & p.value\\\\\n",
       " <chr> & <dbl> & <dbl> & <dbl> & <dbl>\\\\\n",
       "\\hline\n",
       "\t (Intercept)     & 57.29657208 & 2.42533962 & 23.6241438 & 2.819537e-94\\\\\n",
       "\t elec\\_comp       & -0.01756735 & 0.04759106 & -0.3691313 & 7.121264e-01\\\\\n",
       "\t gov\\_typeunitary & -4.57003521 & 0.67241304 & -6.7964702 & 2.078520e-11\\\\\n",
       "\t prop\\_repyes     &  6.81429641 & 0.69874845 &  9.7521453 & 2.545960e-21\\\\\n",
       "\t num\\_party       & -0.92232670 & 0.21346353 & -4.3207695 & 1.748069e-05\\\\\n",
       "\\end{tabular}\n"
      ],
      "text/markdown": [
       "\n",
       "A tibble: 5 × 5\n",
       "\n",
       "| term &lt;chr&gt; | estimate &lt;dbl&gt; | std.error &lt;dbl&gt; | statistic &lt;dbl&gt; | p.value &lt;dbl&gt; |\n",
       "|---|---|---|---|---|\n",
       "| (Intercept)     | 57.29657208 | 2.42533962 | 23.6241438 | 2.819537e-94 |\n",
       "| elec_comp       | -0.01756735 | 0.04759106 | -0.3691313 | 7.121264e-01 |\n",
       "| gov_typeunitary | -4.57003521 | 0.67241304 | -6.7964702 | 2.078520e-11 |\n",
       "| prop_repyes     |  6.81429641 | 0.69874845 |  9.7521453 | 2.545960e-21 |\n",
       "| num_party       | -0.92232670 | 0.21346353 | -4.3207695 | 1.748069e-05 |\n",
       "\n"
      ],
      "text/plain": [
       "  term            estimate    std.error  statistic  p.value     \n",
       "1 (Intercept)     57.29657208 2.42533962 23.6241438 2.819537e-94\n",
       "2 elec_comp       -0.01756735 0.04759106 -0.3691313 7.121264e-01\n",
       "3 gov_typeunitary -4.57003521 0.67241304 -6.7964702 2.078520e-11\n",
       "4 prop_repyes      6.81429641 0.69874845  9.7521453 2.545960e-21\n",
       "5 num_party       -0.92232670 0.21346353 -4.3207695 1.748069e-05"
      ]
     },
     "metadata": {},
     "output_type": "display_data"
    }
   ],
   "source": [
    "tidy(old_model)"
   ]
  },
  {
   "cell_type": "code",
   "execution_count": 17,
   "id": "336df22a",
   "metadata": {},
   "outputs": [
    {
     "data": {
      "text/html": [
       "<style>\n",
       ".dl-inline {width: auto; margin:0; padding: 0}\n",
       ".dl-inline>dt, .dl-inline>dd {float: none; width: auto; display: inline-block}\n",
       ".dl-inline>dt::after {content: \":\\0020\"; padding-right: .5ex}\n",
       ".dl-inline>dt:not(:first-of-type) {padding-left: .5ex}\n",
       "</style><dl class=dl-inline><dt>elec_comp</dt><dd>1.69119276562661</dd><dt>gov_type</dt><dd>1.04574092268945</dd><dt>prop_rep</dt><dd>1.16463442654731</dd><dt>num_party</dt><dd>1.77547523565289</dd></dl>\n"
      ],
      "text/latex": [
       "\\begin{description*}\n",
       "\\item[elec\\textbackslash{}\\_comp] 1.69119276562661\n",
       "\\item[gov\\textbackslash{}\\_type] 1.04574092268945\n",
       "\\item[prop\\textbackslash{}\\_rep] 1.16463442654731\n",
       "\\item[num\\textbackslash{}\\_party] 1.77547523565289\n",
       "\\end{description*}\n"
      ],
      "text/markdown": [
       "elec_comp\n",
       ":   1.69119276562661gov_type\n",
       ":   1.04574092268945prop_rep\n",
       ":   1.16463442654731num_party\n",
       ":   1.77547523565289\n",
       "\n"
      ],
      "text/plain": [
       "elec_comp  gov_type  prop_rep num_party \n",
       " 1.691193  1.045741  1.164634  1.775475 "
      ]
     },
     "metadata": {},
     "output_type": "display_data"
    }
   ],
   "source": [
    "vif(old_model)"
   ]
  },
  {
   "cell_type": "markdown",
   "id": "9af0841e",
   "metadata": {},
   "source": [
    "### 3.4 Backward Selection"
   ]
  },
  {
   "cell_type": "code",
   "execution_count": 18,
   "id": "4f73ade8",
   "metadata": {},
   "outputs": [
    {
     "data": {
      "text/plain": [
       "Subset selection object\n",
       "Call: regsubsets.formula(x = voter_turnout ~ elec_comp + gov_type + \n",
       "    prop_rep + num_party + index_ega + index_woman + index_legis + \n",
       "    index_exe, nvmax = 8, data = selection_QOG, method = \"backward\", \n",
       "    )\n",
       "8 Variables  (and intercept)\n",
       "                Forced in Forced out\n",
       "elec_comp           FALSE      FALSE\n",
       "gov_typeunitary     FALSE      FALSE\n",
       "prop_repyes         FALSE      FALSE\n",
       "num_party           FALSE      FALSE\n",
       "index_ega           FALSE      FALSE\n",
       "index_woman         FALSE      FALSE\n",
       "index_legis         FALSE      FALSE\n",
       "index_exe           FALSE      FALSE\n",
       "1 subsets of each size up to 8\n",
       "Selection Algorithm: backward\n",
       "         elec_comp gov_typeunitary prop_repyes num_party index_ega index_woman\n",
       "1  ( 1 ) \" \"       \" \"             \" \"         \"*\"       \" \"       \" \"        \n",
       "2  ( 1 ) \" \"       \" \"             \" \"         \"*\"       \"*\"       \" \"        \n",
       "3  ( 1 ) \" \"       \" \"             \"*\"         \"*\"       \"*\"       \" \"        \n",
       "4  ( 1 ) \" \"       \"*\"             \"*\"         \"*\"       \"*\"       \" \"        \n",
       "5  ( 1 ) \" \"       \"*\"             \"*\"         \"*\"       \"*\"       \"*\"        \n",
       "6  ( 1 ) \" \"       \"*\"             \"*\"         \"*\"       \"*\"       \"*\"        \n",
       "7  ( 1 ) \" \"       \"*\"             \"*\"         \"*\"       \"*\"       \"*\"        \n",
       "8  ( 1 ) \"*\"       \"*\"             \"*\"         \"*\"       \"*\"       \"*\"        \n",
       "         index_legis index_exe\n",
       "1  ( 1 ) \" \"         \" \"      \n",
       "2  ( 1 ) \" \"         \" \"      \n",
       "3  ( 1 ) \" \"         \" \"      \n",
       "4  ( 1 ) \" \"         \" \"      \n",
       "5  ( 1 ) \" \"         \" \"      \n",
       "6  ( 1 ) \"*\"         \" \"      \n",
       "7  ( 1 ) \"*\"         \"*\"      \n",
       "8  ( 1 ) \"*\"         \"*\"      "
      ]
     },
     "metadata": {},
     "output_type": "display_data"
    }
   ],
   "source": [
    "turnout_backward_sel <- regsubsets(\n",
    "  x = voter_turnout ~ elec_comp + gov_type + prop_rep + num_party + index_ega + index_woman + \n",
    "                        index_legis + index_exe, \n",
    "                        nvmax = 8,\n",
    "  data = selection_QOG,\n",
    "  method = \"backward\",\n",
    ")\n",
    "\n",
    "summary(turnout_backward_sel)"
   ]
  },
  {
   "cell_type": "code",
   "execution_count": 19,
   "id": "7277a1a7",
   "metadata": {},
   "outputs": [
    {
     "data": {
      "text/html": [
       "<table class=\"dataframe\">\n",
       "<caption>A data.frame: 8 × 4</caption>\n",
       "<thead>\n",
       "\t<tr><th scope=col>n_input_variables</th><th scope=col>RSQ</th><th scope=col>RSS</th><th scope=col>ADJ.R2</th></tr>\n",
       "\t<tr><th scope=col>&lt;int&gt;</th><th scope=col>&lt;dbl&gt;</th><th scope=col>&lt;dbl&gt;</th><th scope=col>&lt;dbl&gt;</th></tr>\n",
       "</thead>\n",
       "<tbody>\n",
       "\t<tr><td>1</td><td>0.08163521</td><td>40295.05</td><td>0.07978367</td></tr>\n",
       "\t<tr><td>2</td><td>0.19168234</td><td>35466.52</td><td>0.18841641</td></tr>\n",
       "\t<tr><td>3</td><td>0.20845628</td><td>34730.53</td><td>0.20364934</td></tr>\n",
       "\t<tr><td>4</td><td>0.22819796</td><td>33864.32</td><td>0.22193587</td></tr>\n",
       "\t<tr><td>5</td><td>0.24089690</td><td>33307.13</td><td>0.23318243</td></tr>\n",
       "\t<tr><td>6</td><td>0.24988062</td><td>32912.95</td><td>0.24071419</td></tr>\n",
       "\t<tr><td>7</td><td>0.25314595</td><td>32769.68</td><td>0.24247660</td></tr>\n",
       "\t<tr><td>8</td><td>0.25342409</td><td>32757.48</td><td>0.24121017</td></tr>\n",
       "</tbody>\n",
       "</table>\n"
      ],
      "text/latex": [
       "A data.frame: 8 × 4\n",
       "\\begin{tabular}{llll}\n",
       " n\\_input\\_variables & RSQ & RSS & ADJ.R2\\\\\n",
       " <int> & <dbl> & <dbl> & <dbl>\\\\\n",
       "\\hline\n",
       "\t 1 & 0.08163521 & 40295.05 & 0.07978367\\\\\n",
       "\t 2 & 0.19168234 & 35466.52 & 0.18841641\\\\\n",
       "\t 3 & 0.20845628 & 34730.53 & 0.20364934\\\\\n",
       "\t 4 & 0.22819796 & 33864.32 & 0.22193587\\\\\n",
       "\t 5 & 0.24089690 & 33307.13 & 0.23318243\\\\\n",
       "\t 6 & 0.24988062 & 32912.95 & 0.24071419\\\\\n",
       "\t 7 & 0.25314595 & 32769.68 & 0.24247660\\\\\n",
       "\t 8 & 0.25342409 & 32757.48 & 0.24121017\\\\\n",
       "\\end{tabular}\n"
      ],
      "text/markdown": [
       "\n",
       "A data.frame: 8 × 4\n",
       "\n",
       "| n_input_variables &lt;int&gt; | RSQ &lt;dbl&gt; | RSS &lt;dbl&gt; | ADJ.R2 &lt;dbl&gt; |\n",
       "|---|---|---|---|\n",
       "| 1 | 0.08163521 | 40295.05 | 0.07978367 |\n",
       "| 2 | 0.19168234 | 35466.52 | 0.18841641 |\n",
       "| 3 | 0.20845628 | 34730.53 | 0.20364934 |\n",
       "| 4 | 0.22819796 | 33864.32 | 0.22193587 |\n",
       "| 5 | 0.24089690 | 33307.13 | 0.23318243 |\n",
       "| 6 | 0.24988062 | 32912.95 | 0.24071419 |\n",
       "| 7 | 0.25314595 | 32769.68 | 0.24247660 |\n",
       "| 8 | 0.25342409 | 32757.48 | 0.24121017 |\n",
       "\n"
      ],
      "text/plain": [
       "  n_input_variables RSQ        RSS      ADJ.R2    \n",
       "1 1                 0.08163521 40295.05 0.07978367\n",
       "2 2                 0.19168234 35466.52 0.18841641\n",
       "3 3                 0.20845628 34730.53 0.20364934\n",
       "4 4                 0.22819796 33864.32 0.22193587\n",
       "5 5                 0.24089690 33307.13 0.23318243\n",
       "6 6                 0.24988062 32912.95 0.24071419\n",
       "7 7                 0.25314595 32769.68 0.24247660\n",
       "8 8                 0.25342409 32757.48 0.24121017"
      ]
     },
     "metadata": {},
     "output_type": "display_data"
    }
   ],
   "source": [
    "turnout_bwd_summary <- summary(turnout_backward_sel)\n",
    "\n",
    "turnout_bwd_summary_df <- data.frame(\n",
    "    n_input_variables = 1:8,\n",
    "    RSQ = turnout_bwd_summary$rsq, RSS = turnout_bwd_summary$rss,\n",
    "    ADJ.R2 = turnout_bwd_summary$adjr2\n",
    ")\n",
    "\n",
    "turnout_bwd_summary_df"
   ]
  },
  {
   "cell_type": "markdown",
   "id": "535cc9f3",
   "metadata": {},
   "source": [
    "Based on the summary of the model selection, we can see that the model with 7 input variables has the best performance in terms of the adjusted $R^{2}$ value. Considering the fact that adjusted  $R^{2}$ value is commonly used to compare models with different sizes, we adopted the model with 7 input variables as the new model."
   ]
  },
  {
   "cell_type": "code",
   "execution_count": 20,
   "id": "e6f197b1",
   "metadata": {},
   "outputs": [
    {
     "data": {
      "text/plain": [
       "\n",
       "Call:\n",
       "lm(formula = voter_turnout ~ elec_comp + gov_type + prop_rep + \n",
       "    num_party + index_ega + index_woman + index_legis, data = training_QOG)\n",
       "\n",
       "Residuals:\n",
       "     Min       1Q   Median       3Q      Max \n",
       "-30.5774  -4.8650   0.5128   4.9791  19.6236 \n",
       "\n",
       "Coefficients:\n",
       "                Estimate Std. Error t value Pr(>|t|)    \n",
       "(Intercept)     31.01884    4.26263   7.277 8.10e-13 ***\n",
       "elec_comp       -0.17646    0.04775  -3.695 0.000234 ***\n",
       "gov_typeunitary -4.38440    0.64266  -6.822 1.76e-11 ***\n",
       "prop_repyes      5.72000    0.69921   8.181 1.09e-15 ***\n",
       "num_party       -0.99307    0.21058  -4.716 2.84e-06 ***\n",
       "index_ega       15.53258    5.72332   2.714 0.006791 ** \n",
       "index_woman     19.34930    3.44998   5.609 2.80e-08 ***\n",
       "index_legis      2.22132    0.52854   4.203 2.93e-05 ***\n",
       "---\n",
       "Signif. codes:  0 '***' 0.001 '**' 0.01 '*' 0.05 '.' 0.1 ' ' 1\n",
       "\n",
       "Residual standard error: 7.648 on 807 degrees of freedom\n",
       "Multiple R-squared:  0.2416,\tAdjusted R-squared:  0.235 \n",
       "F-statistic: 36.73 on 7 and 807 DF,  p-value: < 2.2e-16\n"
      ]
     },
     "metadata": {},
     "output_type": "display_data"
    }
   ],
   "source": [
    "new_model <- lm(voter_turnout ~ elec_comp + gov_type + prop_rep + num_party + index_ega + \n",
    "                index_woman+ index_legis,\n",
    "                data = training_QOG)\n",
    "summary(new_model)"
   ]
  },
  {
   "cell_type": "code",
   "execution_count": 21,
   "id": "7c68aa9b",
   "metadata": {},
   "outputs": [
    {
     "data": {
      "text/html": [
       "<table class=\"dataframe\">\n",
       "<caption>A tibble: 8 × 5</caption>\n",
       "<thead>\n",
       "\t<tr><th scope=col>term</th><th scope=col>estimate</th><th scope=col>std.error</th><th scope=col>statistic</th><th scope=col>p.value</th></tr>\n",
       "\t<tr><th scope=col>&lt;chr&gt;</th><th scope=col>&lt;dbl&gt;</th><th scope=col>&lt;dbl&gt;</th><th scope=col>&lt;dbl&gt;</th><th scope=col>&lt;dbl&gt;</th></tr>\n",
       "</thead>\n",
       "<tbody>\n",
       "\t<tr><td>(Intercept)    </td><td>31.0188426</td><td>4.26262934</td><td> 7.276927</td><td>8.102468e-13</td></tr>\n",
       "\t<tr><td>elec_comp      </td><td>-0.1764569</td><td>0.04775106</td><td>-3.695349</td><td>2.344072e-04</td></tr>\n",
       "\t<tr><td>gov_typeunitary</td><td>-4.3844008</td><td>0.64265942</td><td>-6.822277</td><td>1.758411e-11</td></tr>\n",
       "\t<tr><td>prop_repyes    </td><td> 5.7200021</td><td>0.69921422</td><td> 8.180615</td><td>1.094528e-15</td></tr>\n",
       "\t<tr><td>num_party      </td><td>-0.9930728</td><td>0.21058224</td><td>-4.715843</td><td>2.835604e-06</td></tr>\n",
       "\t<tr><td>index_ega      </td><td>15.5325759</td><td>5.72331841</td><td> 2.713911</td><td>6.791248e-03</td></tr>\n",
       "\t<tr><td>index_woman    </td><td>19.3492982</td><td>3.44998401</td><td> 5.608518</td><td>2.803665e-08</td></tr>\n",
       "\t<tr><td>index_legis    </td><td> 2.2213158</td><td>0.52853725</td><td> 4.202761</td><td>2.931280e-05</td></tr>\n",
       "</tbody>\n",
       "</table>\n"
      ],
      "text/latex": [
       "A tibble: 8 × 5\n",
       "\\begin{tabular}{lllll}\n",
       " term & estimate & std.error & statistic & p.value\\\\\n",
       " <chr> & <dbl> & <dbl> & <dbl> & <dbl>\\\\\n",
       "\\hline\n",
       "\t (Intercept)     & 31.0188426 & 4.26262934 &  7.276927 & 8.102468e-13\\\\\n",
       "\t elec\\_comp       & -0.1764569 & 0.04775106 & -3.695349 & 2.344072e-04\\\\\n",
       "\t gov\\_typeunitary & -4.3844008 & 0.64265942 & -6.822277 & 1.758411e-11\\\\\n",
       "\t prop\\_repyes     &  5.7200021 & 0.69921422 &  8.180615 & 1.094528e-15\\\\\n",
       "\t num\\_party       & -0.9930728 & 0.21058224 & -4.715843 & 2.835604e-06\\\\\n",
       "\t index\\_ega       & 15.5325759 & 5.72331841 &  2.713911 & 6.791248e-03\\\\\n",
       "\t index\\_woman     & 19.3492982 & 3.44998401 &  5.608518 & 2.803665e-08\\\\\n",
       "\t index\\_legis     &  2.2213158 & 0.52853725 &  4.202761 & 2.931280e-05\\\\\n",
       "\\end{tabular}\n"
      ],
      "text/markdown": [
       "\n",
       "A tibble: 8 × 5\n",
       "\n",
       "| term &lt;chr&gt; | estimate &lt;dbl&gt; | std.error &lt;dbl&gt; | statistic &lt;dbl&gt; | p.value &lt;dbl&gt; |\n",
       "|---|---|---|---|---|\n",
       "| (Intercept)     | 31.0188426 | 4.26262934 |  7.276927 | 8.102468e-13 |\n",
       "| elec_comp       | -0.1764569 | 0.04775106 | -3.695349 | 2.344072e-04 |\n",
       "| gov_typeunitary | -4.3844008 | 0.64265942 | -6.822277 | 1.758411e-11 |\n",
       "| prop_repyes     |  5.7200021 | 0.69921422 |  8.180615 | 1.094528e-15 |\n",
       "| num_party       | -0.9930728 | 0.21058224 | -4.715843 | 2.835604e-06 |\n",
       "| index_ega       | 15.5325759 | 5.72331841 |  2.713911 | 6.791248e-03 |\n",
       "| index_woman     | 19.3492982 | 3.44998401 |  5.608518 | 2.803665e-08 |\n",
       "| index_legis     |  2.2213158 | 0.52853725 |  4.202761 | 2.931280e-05 |\n",
       "\n"
      ],
      "text/plain": [
       "  term            estimate   std.error  statistic p.value     \n",
       "1 (Intercept)     31.0188426 4.26262934  7.276927 8.102468e-13\n",
       "2 elec_comp       -0.1764569 0.04775106 -3.695349 2.344072e-04\n",
       "3 gov_typeunitary -4.3844008 0.64265942 -6.822277 1.758411e-11\n",
       "4 prop_repyes      5.7200021 0.69921422  8.180615 1.094528e-15\n",
       "5 num_party       -0.9930728 0.21058224 -4.715843 2.835604e-06\n",
       "6 index_ega       15.5325759 5.72331841  2.713911 6.791248e-03\n",
       "7 index_woman     19.3492982 3.44998401  5.608518 2.803665e-08\n",
       "8 index_legis      2.2213158 0.52853725  4.202761 2.931280e-05"
      ]
     },
     "metadata": {},
     "output_type": "display_data"
    }
   ],
   "source": [
    "tidy(new_model)"
   ]
  },
  {
   "cell_type": "code",
   "execution_count": 22,
   "id": "68fd7e8a",
   "metadata": {},
   "outputs": [
    {
     "data": {
      "text/html": [
       "<style>\n",
       ".dl-inline {width: auto; margin:0; padding: 0}\n",
       ".dl-inline>dt, .dl-inline>dd {float: none; width: auto; display: inline-block}\n",
       ".dl-inline>dt::after {content: \":\\0020\"; padding-right: .5ex}\n",
       ".dl-inline>dt:not(:first-of-type) {padding-left: .5ex}\n",
       "</style><dl class=dl-inline><dt>elec_comp</dt><dd>1.93708405112519</dd><dt>gov_type</dt><dd>1.08680990408843</dd><dt>prop_rep</dt><dd>1.32680896924485</dd><dt>num_party</dt><dd>1.96585156786885</dd><dt>index_ega</dt><dd>2.06161046621249</dd><dt>index_woman</dt><dd>1.44188808254473</dd><dt>index_legis</dt><dd>1.60665492605798</dd></dl>\n"
      ],
      "text/latex": [
       "\\begin{description*}\n",
       "\\item[elec\\textbackslash{}\\_comp] 1.93708405112519\n",
       "\\item[gov\\textbackslash{}\\_type] 1.08680990408843\n",
       "\\item[prop\\textbackslash{}\\_rep] 1.32680896924485\n",
       "\\item[num\\textbackslash{}\\_party] 1.96585156786885\n",
       "\\item[index\\textbackslash{}\\_ega] 2.06161046621249\n",
       "\\item[index\\textbackslash{}\\_woman] 1.44188808254473\n",
       "\\item[index\\textbackslash{}\\_legis] 1.60665492605798\n",
       "\\end{description*}\n"
      ],
      "text/markdown": [
       "elec_comp\n",
       ":   1.93708405112519gov_type\n",
       ":   1.08680990408843prop_rep\n",
       ":   1.32680896924485num_party\n",
       ":   1.96585156786885index_ega\n",
       ":   2.06161046621249index_woman\n",
       ":   1.44188808254473index_legis\n",
       ":   1.60665492605798\n",
       "\n"
      ],
      "text/plain": [
       "  elec_comp    gov_type    prop_rep   num_party   index_ega index_woman \n",
       "   1.937084    1.086810    1.326809    1.965852    2.061610    1.441888 \n",
       "index_legis \n",
       "   1.606655 "
      ]
     },
     "metadata": {},
     "output_type": "display_data"
    }
   ],
   "source": [
    "vif(new_model)"
   ]
  },
  {
   "cell_type": "markdown",
   "id": "a8d9300c",
   "metadata": {},
   "source": [
    "### 3.5 Model Comparison and Accuracy"
   ]
  },
  {
   "cell_type": "code",
   "execution_count": 23,
   "id": "018c47bc",
   "metadata": {},
   "outputs": [
    {
     "data": {
      "text/html": [
       "<table class=\"dataframe\">\n",
       "<caption>A anova: 2 × 6</caption>\n",
       "<thead>\n",
       "\t<tr><th></th><th scope=col>Res.Df</th><th scope=col>RSS</th><th scope=col>Df</th><th scope=col>Sum of Sq</th><th scope=col>F</th><th scope=col>Pr(&gt;F)</th></tr>\n",
       "\t<tr><th></th><th scope=col>&lt;dbl&gt;</th><th scope=col>&lt;dbl&gt;</th><th scope=col>&lt;dbl&gt;</th><th scope=col>&lt;dbl&gt;</th><th scope=col>&lt;dbl&gt;</th><th scope=col>&lt;dbl&gt;</th></tr>\n",
       "</thead>\n",
       "<tbody>\n",
       "\t<tr><th scope=row>1</th><td>810</td><td>53908.85</td><td>NA</td><td>      NA</td><td>      NA</td><td>          NA</td></tr>\n",
       "\t<tr><th scope=row>2</th><td>807</td><td>47207.24</td><td> 3</td><td>6701.611</td><td>38.18764</td><td>4.409684e-23</td></tr>\n",
       "</tbody>\n",
       "</table>\n"
      ],
      "text/latex": [
       "A anova: 2 × 6\n",
       "\\begin{tabular}{r|llllll}\n",
       "  & Res.Df & RSS & Df & Sum of Sq & F & Pr(>F)\\\\\n",
       "  & <dbl> & <dbl> & <dbl> & <dbl> & <dbl> & <dbl>\\\\\n",
       "\\hline\n",
       "\t1 & 810 & 53908.85 & NA &       NA &       NA &           NA\\\\\n",
       "\t2 & 807 & 47207.24 &  3 & 6701.611 & 38.18764 & 4.409684e-23\\\\\n",
       "\\end{tabular}\n"
      ],
      "text/markdown": [
       "\n",
       "A anova: 2 × 6\n",
       "\n",
       "| <!--/--> | Res.Df &lt;dbl&gt; | RSS &lt;dbl&gt; | Df &lt;dbl&gt; | Sum of Sq &lt;dbl&gt; | F &lt;dbl&gt; | Pr(&gt;F) &lt;dbl&gt; |\n",
       "|---|---|---|---|---|---|---|\n",
       "| 1 | 810 | 53908.85 | NA |       NA |       NA |           NA |\n",
       "| 2 | 807 | 47207.24 |  3 | 6701.611 | 38.18764 | 4.409684e-23 |\n",
       "\n"
      ],
      "text/plain": [
       "  Res.Df RSS      Df Sum of Sq F        Pr(>F)      \n",
       "1 810    53908.85 NA       NA        NA           NA\n",
       "2 807    47207.24  3 6701.611  38.18764 4.409684e-23"
      ]
     },
     "metadata": {},
     "output_type": "display_data"
    }
   ],
   "source": [
    "anova(old_model, new_model)"
   ]
  },
  {
   "cell_type": "code",
   "execution_count": 24,
   "id": "8b813038",
   "metadata": {},
   "outputs": [
    {
     "data": {
      "text/html": [
       "8.02154506197916"
      ],
      "text/latex": [
       "8.02154506197916"
      ],
      "text/markdown": [
       "8.02154506197916"
      ],
      "text/plain": [
       "[1] 8.021545"
      ]
     },
     "metadata": {},
     "output_type": "display_data"
    }
   ],
   "source": [
    "old_model_pred <- predict(old_model, newdata = testing_QOG)\n",
    "\n",
    "old_model_RMSE = rmse(preds = old_model_pred,\n",
    "                      actuals = testing_QOG$voter_turnout)\n",
    "old_model_RMSE"
   ]
  },
  {
   "cell_type": "code",
   "execution_count": 25,
   "id": "0a038d0f",
   "metadata": {},
   "outputs": [
    {
     "data": {
      "text/html": [
       "7.55061885265933"
      ],
      "text/latex": [
       "7.55061885265933"
      ],
      "text/markdown": [
       "7.55061885265933"
      ],
      "text/plain": [
       "[1] 7.550619"
      ]
     },
     "metadata": {},
     "output_type": "display_data"
    }
   ],
   "source": [
    "new_model_pred <- predict(new_model, newdata = testing_QOG)\n",
    "\n",
    "new_model_RMSE = rmse(preds = new_model_pred,\n",
    "                      actuals = testing_QOG$voter_turnout)\n",
    "new_model_RMSE"
   ]
  },
  {
   "cell_type": "markdown",
   "id": "545f28f7",
   "metadata": {},
   "source": [
    "The *F*-test displays a *p*-value lower than 0.5 (for the new model), therefore, this indicates that, at a 95% confidence interval, the new model is significantly better than the old model. Furthermore, we can see that the new model has a lower Root Mean Squared Error (RMSE) value, further indicating that the new model will have better accuracy in predicting the target value."
   ]
  },
  {
   "cell_type": "markdown",
   "id": "069fe3ef",
   "metadata": {},
   "source": [
    "## 4. Discussion"
   ]
  },
  {
   "cell_type": "markdown",
   "id": "6e99a43e",
   "metadata": {},
   "source": [
    "Our study aimed to test Jackman’s claims that voter turnout is majorly impacted by the structure of political institutions in industrialized democracies by using a more comprehensive and updated dataset. We based out methods on Jackman (1987) in building a regression model with additional variables, with the aim in reducing the uncertainty around Jackman’s findings on whether these factors of government institutions are significant in voter turnout by offering an alternative model. We were able to conclude that our updated model had a better goodness-of-fit (as represented by its higher $R^{2}$ value), as well as better accuracy (as represented by its lower RMSE value), than Jackman's original model.\n",
    "\n",
    "Despite the advantages of using a larger dataset than Jackman, the results of our inference test and alternative model could still be improved. One limitation of the current dataset is that there is an abundance of accurate election data for developed countries whereas there were often NA entries for developing countries. As such the model is only generalizable to OECD democracies. As developing countries are generally weak states they either do not have full control of their territories or have weak government agencies who cannot accurately record data on their populations. This means future data will need to be gathered by non government organizations or academics which may be difficult or extremely costly to do for all countries. However, as the majority of all countries resemble weak states and as the OECD democracies are more of a unique exception in history, it will be useful to gather this data. By being able to generalize these claims to all democracies, we can determine what parts of government structure would be useful in enabling high voter turnout for much of the world or alternatively we could use this data to focus on how to improve voter turnout in the developing world. \n",
    "\n",
    "Besides improving the generalizability of our model, it could also be improved with more data on different aspects of government structure to see if we can find more significant variables. Although our dataset was large, many variables did not relate to government structure or if they did have data for all years. Expanding the data could also allow us to identify more important parts of government structure and its effect on voting. \n",
    "\n",
    "There is already much research on how factors within society like education affect voter turnout. This research tests whether the structure of government and how we operate political organizations affects citizen’s participation in voting. By doing so we hope to renew interest in identifying other features of government that may affect voter turnout and also suggest creating a more generalizable model that includes data from additional states such as developing countries."
   ]
  },
  {
   "cell_type": "markdown",
   "id": "8aab954d",
   "metadata": {},
   "source": [
    "## 5. References"
   ]
  },
  {
   "cell_type": "markdown",
   "id": "b7ac5495",
   "metadata": {},
   "source": [
    "Almond, G. A., & Verba, S. (1963). The Civic Culture: Political Attitudes And Democracy In Five Nations. Princeton University Press.\n",
    "\n",
    "Freitag, M. (2010). Structure versus Culture: A Comparative Study of the Influence of Political Institutions and Cultural Modernization Factors on Voter Turnout in Swiss Sub-national Parliamentary Elections. International Political Science Review / Revue Internationale de Science Politique, 31(4), 428–448. http://www.jstor.org/stable/20869812\n",
    "\n",
    "Jackman, R. W. (1987). Political Institutions And Voter Turnout In The Industrial Democracies. The American Political Science Review, 81(2), 405-423. https://doi.org/10.2307/1961959\n",
    "\n",
    "Teorell, J., Sundström A., Holmberg, S., Rothstein B., Alvarado, N., Cem Mert Dalli, P. & C. (2022). The Quality of Government Standard Dataset. University of Gothenburg: The Quality of Government Institute. https://www.gu.se/en/quality-government doi:10.18157/qogstdjan22\n",
    "\n",
    "Vanhanen, T. (2019). Measures of democracy 1810-2018 [dataset] [Version 8.0]. https://services.fsd.tuni.fi/catalogue/FSD1289"
   ]
  },
  {
   "cell_type": "code",
   "execution_count": null,
   "id": "0f1c121a",
   "metadata": {},
   "outputs": [],
   "source": []
  }
 ],
 "metadata": {
  "kernelspec": {
   "display_name": "R",
   "language": "R",
   "name": "ir"
  },
  "language_info": {
   "codemirror_mode": "r",
   "file_extension": ".r",
   "mimetype": "text/x-r-source",
   "name": "R",
   "pygments_lexer": "r",
   "version": "4.2.2"
  }
 },
 "nbformat": 4,
 "nbformat_minor": 5
}
